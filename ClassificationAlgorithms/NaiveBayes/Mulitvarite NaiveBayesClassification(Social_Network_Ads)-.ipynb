{
 "cells": [
  {
   "cell_type": "markdown",
   "metadata": {},
   "source": [
    "# Objective is to classify whether or not a user will purchase the product or not if ad is shown to him based on user's age and salary"
   ]
  },
  {
   "cell_type": "code",
   "execution_count": 190,
   "metadata": {},
   "outputs": [],
   "source": [
    "import pandas as pd   # for reading the csv file\n",
    "import numpy as np     # for dea;ing with n-dimensional matrices\n",
    "import matplotlib.pyplot as plt       # for plotting the results\n",
    "from IPython.display import clear_output  \n",
    "from scipy.stats import multivariate_normal"
   ]
  },
  {
   "cell_type": "code",
   "execution_count": 191,
   "metadata": {},
   "outputs": [
    {
     "data": {
      "text/html": [
       "<div>\n",
       "<style scoped>\n",
       "    .dataframe tbody tr th:only-of-type {\n",
       "        vertical-align: middle;\n",
       "    }\n",
       "\n",
       "    .dataframe tbody tr th {\n",
       "        vertical-align: top;\n",
       "    }\n",
       "\n",
       "    .dataframe thead th {\n",
       "        text-align: right;\n",
       "    }\n",
       "</style>\n",
       "<table border=\"1\" class=\"dataframe\">\n",
       "  <thead>\n",
       "    <tr style=\"text-align: right;\">\n",
       "      <th></th>\n",
       "      <th>Age</th>\n",
       "      <th>EstimatedSalary</th>\n",
       "      <th>Purchased</th>\n",
       "    </tr>\n",
       "  </thead>\n",
       "  <tbody>\n",
       "    <tr>\n",
       "      <th>0</th>\n",
       "      <td>19</td>\n",
       "      <td>19000</td>\n",
       "      <td>0</td>\n",
       "    </tr>\n",
       "    <tr>\n",
       "      <th>1</th>\n",
       "      <td>35</td>\n",
       "      <td>20000</td>\n",
       "      <td>0</td>\n",
       "    </tr>\n",
       "    <tr>\n",
       "      <th>2</th>\n",
       "      <td>26</td>\n",
       "      <td>43000</td>\n",
       "      <td>0</td>\n",
       "    </tr>\n",
       "    <tr>\n",
       "      <th>3</th>\n",
       "      <td>27</td>\n",
       "      <td>57000</td>\n",
       "      <td>0</td>\n",
       "    </tr>\n",
       "    <tr>\n",
       "      <th>4</th>\n",
       "      <td>19</td>\n",
       "      <td>76000</td>\n",
       "      <td>0</td>\n",
       "    </tr>\n",
       "  </tbody>\n",
       "</table>\n",
       "</div>"
      ],
      "text/plain": [
       "   Age  EstimatedSalary  Purchased\n",
       "0   19            19000          0\n",
       "1   35            20000          0\n",
       "2   26            43000          0\n",
       "3   27            57000          0\n",
       "4   19            76000          0"
      ]
     },
     "execution_count": 191,
     "metadata": {},
     "output_type": "execute_result"
    }
   ],
   "source": [
    "dataset = pd.read_csv(\"datasets/Social_Network_Ads.csv\")   \n",
    "\n",
    "dataset=dataset.drop(['User ID','Gender'],axis=1)\n",
    "dataset.head()"
   ]
  },
  {
   "cell_type": "code",
   "execution_count": 192,
   "metadata": {},
   "outputs": [
    {
     "data": {
      "text/plain": [
       "Age                0\n",
       "EstimatedSalary    0\n",
       "Purchased          0\n",
       "dtype: int64"
      ]
     },
     "execution_count": 192,
     "metadata": {},
     "output_type": "execute_result"
    }
   ],
   "source": [
    "dataset.isna().sum()   #checking the presence of NaN values in the dataset"
   ]
  },
  {
   "cell_type": "markdown",
   "metadata": {},
   "source": [
    "## Plotting the datapoints"
   ]
  },
  {
   "cell_type": "code",
   "execution_count": 193,
   "metadata": {},
   "outputs": [
    {
     "data": {
      "image/png": "[encoded data removed]",
      "text/plain": [
       "<Figure size 432x288 with 1 Axes>"
      ]
     },
     "metadata": {},
     "output_type": "display_data"
    }
   ],
   "source": [
    "plt.scatter(dataset[dataset['Purchased']==0]['Age'],dataset[dataset['Purchased']==0]['EstimatedSalary'],label=\"Purchased=0\")\n",
    "plt.scatter(dataset[dataset['Purchased']==1]['Age'],dataset[dataset['Purchased']==1]['EstimatedSalary'],label=\"Purchased=1\")\n",
    "plt.legend()\n",
    "plt.xlabel(\"Age\")\n",
    "plt.ylabel(\"Estimated Salary\")\n",
    "plt.show()"
   ]
  },
  {
   "cell_type": "code",
   "execution_count": 194,
   "metadata": {},
   "outputs": [
    {
     "data": {
      "text/plain": [
       "(array([28., 37., 46., 35., 77., 65., 35., 31., 18., 28.]),\n",
       " array([18. , 22.2, 26.4, 30.6, 34.8, 39. , 43.2, 47.4, 51.6, 55.8, 60. ]),\n",
       " <a list of 10 Patch objects>)"
      ]
     },
     "execution_count": 194,
     "metadata": {},
     "output_type": "execute_result"
    },
    {
     "data": {
      "image/png": "[encoded data removed]",
      "text/plain": [
       "<Figure size 432x288 with 1 Axes>"
      ]
     },
     "metadata": {},
     "output_type": "display_data"
    }
   ],
   "source": [
    "plt.hist(dataset['Age'])"
   ]
  },
  {
   "cell_type": "code",
   "execution_count": 195,
   "metadata": {},
   "outputs": [
    {
     "data": {
      "text/plain": [
       "(array([51., 39., 58., 50., 82., 40., 22., 19., 17., 22.]),\n",
       " array([ 15000.,  28500.,  42000.,  55500.,  69000.,  82500.,  96000.,\n",
       "        109500., 123000., 136500., 150000.]),\n",
       " <a list of 10 Patch objects>)"
      ]
     },
     "execution_count": 195,
     "metadata": {},
     "output_type": "execute_result"
    },
    {
     "data": {
      "image/png": "[encoded data removed]",
      "text/plain": [
       "<Figure size 432x288 with 1 Axes>"
      ]
     },
     "metadata": {},
     "output_type": "display_data"
    }
   ],
   "source": [
    "plt.hist(dataset['EstimatedSalary'])"
   ]
  },
  {
   "cell_type": "markdown",
   "metadata": {},
   "source": [
    "# selecting Y, "
   ]
  },
  {
   "cell_type": "code",
   "execution_count": 33,
   "metadata": {},
   "outputs": [],
   "source": [
    "Y=(np.array(dataset['Purchased'])).reshape(len(dataset),1)"
   ]
  },
  {
   "cell_type": "markdown",
   "metadata": {},
   "source": [
    "# Naive Bayes Classification Algorithm"
   ]
  },
  {
   "cell_type": "markdown",
   "metadata": {},
   "source": [
    "### $$  P( class=1 | feature=x) = \\frac{P( feature=x | class=1 )  * P( class=1)} {[(P( feature=x | class=1 )  * P( class=1))+(P( feature=x | class=1 )  * P( class=1))]}  $$\n",
    "\n",
    "##  where\n",
    "###          P( class=1 | feature=x) is our Posterior Probabilty of User Purchasing the product provided feature=x \n",
    "###                       if P( class=1 | feature=x)> P( class=0 | feature=x), class_predicted=1 elseclass_predicted=0\n",
    "###          P( feature=x | class=1 ) is our likelihood probability which will be calculed from the data distribution itself. If we random pick up an user from the set of user for whom Purchase=1, then  P( age=x | class=1 )  is the probabilty that the feature value = x.\n",
    "###          P(class=1) is the Prior Probablity and it can be calculated as \n",
    "## $$   P(class=1)=  \\frac{numberOfRowsWith(Purchase==1)}{TotalNumberOfRows} $$  "
   ]
  },
  {
   "cell_type": "markdown",
   "metadata": {},
   "source": [
    "## calculating prior probabilities:"
   ]
  },
  {
   "cell_type": "code",
   "execution_count": 196,
   "metadata": {},
   "outputs": [],
   "source": [
    "prior_class0=len(dataset[dataset['Purchased']==0])/len(dataset)\n",
    "prior_class1=len(dataset[dataset['Purchased']==1])/len(dataset)"
   ]
  },
  {
   "cell_type": "code",
   "execution_count": 213,
   "metadata": {},
   "outputs": [],
   "source": [
    "X=dataset.drop('Purchased',axis=1)"
   ]
  },
  {
   "cell_type": "markdown",
   "metadata": {},
   "source": [
    "# normalisation"
   ]
  },
  {
   "cell_type": "code",
   "execution_count": 214,
   "metadata": {},
   "outputs": [],
   "source": [
    "X = (X -np.mean(X,axis=0))/np.std(X,axis=0)"
   ]
  },
  {
   "cell_type": "markdown",
   "metadata": {},
   "source": [
    "# Splitting of data"
   ]
  },
  {
   "cell_type": "code",
   "execution_count": 215,
   "metadata": {},
   "outputs": [],
   "source": [
    "X_class0= (X[dataset['Purchased']==0])\n",
    "X_class1= X[dataset['Purchased']==1]\n"
   ]
  },
  {
   "cell_type": "markdown",
   "metadata": {},
   "source": [
    "# calculating mean and covariance matrix for both X_class0 and X_class1 data"
   ]
  },
  {
   "cell_type": "code",
   "execution_count": 216,
   "metadata": {},
   "outputs": [],
   "source": [
    "# calculating covariance matrices\n",
    "cov_classs0 = X_class0.cov()\n",
    "cov_classs1 = X_class1.cov()\n"
   ]
  },
  {
   "cell_type": "code",
   "execution_count": 217,
   "metadata": {},
   "outputs": [],
   "source": [
    "X_class0=np.array(X_class0)\n",
    "X_class1=np.array(X_class1)\n",
    "\n",
    "mean_class0=(np.array(X_class0.mean(axis=0))).reshape(len(X_class0.T),1)\n",
    "mean_class1=(np.array(X_class1.mean(axis=0))).reshape(len(X_class1.T),1)\n",
    "\n",
    "X=np.array(X)"
   ]
  },
  {
   "cell_type": "markdown",
   "metadata": {},
   "source": [
    "## calculating likelihood probabilities , P( age=x1 and salary=x2 | class=1or0 )\n",
    "### Since our Age feature is following some distribution closer to Gaussian Distribution\n",
    "## $$  P(age=x | class=1) = \\frac{e^ (\\frac{-(X-mean )^T *inverseOfCov * (X-mean )}{2} )}{ (2\\pi *determinantOfCov)^k } $$\n",
    "###  where  k = number of features\n",
    "###                     mean is the vector of mean taken of each column, i.e., len(mean)=k\n",
    "###                     cov is the covariance matrix of shape kXk\n",
    "###                     X is a row vector corresponding to one user"
   ]
  },
  {
   "cell_type": "code",
   "execution_count": null,
   "metadata": {},
   "outputs": [],
   "source": []
  },
  {
   "cell_type": "code",
   "execution_count": 223,
   "metadata": {},
   "outputs": [],
   "source": [
    "def multivariate_norm_pdf(x,mean,cov):\n",
    "    \n",
    "    return (1/(((2*np.pi)**len(x.T) * np.linalg.det(cov))**0.5))* np.exp(-0.5* np.dot(np.dot((x-mean).T,np.linalg.inv(cov)) , (x-mean))[0][0] )"
   ]
  },
  {
   "cell_type": "markdown",
   "metadata": {},
   "source": [
    "## calculating Posterior Probablities"
   ]
  },
  {
   "cell_type": "code",
   "execution_count": 224,
   "metadata": {},
   "outputs": [],
   "source": [
    "def posterior_normal(example,mean_class0,cov0,mean_class1,cov1):   \n",
    "    numerator0= multivariate_norm_pdf(example,mean_class0,cov0)*prior_class0\n",
    "    numerator1= multivariate_norm_pdf(example,mean_class1,cov1)*prior_class1\n",
    "    return numerator0/(numerator0+numerator1)  ,  numerator1/(numerator0+numerator1)\n",
    "\n"
   ]
  },
  {
   "cell_type": "markdown",
   "metadata": {},
   "source": [
    "## testing :  \n",
    "### if for an example age, posterior1>posterior0: then model will predict Purchase=1 else Purchase=0"
   ]
  },
  {
   "cell_type": "code",
   "execution_count": 238,
   "metadata": {},
   "outputs": [],
   "source": [
    "def predict_using_normal(xtest):\n",
    "    y_predicted=[]\n",
    "    for i in range(0,len(xtest)):\n",
    "        \n",
    "        posterior0,posterior1=posterior_normal(xtest[i],mean_class0,cov_classs0,mean_class1,cov_classs0)\n",
    "        if posterior0>posterior1:\n",
    "            y_predicted.append(0)\n",
    "        else:\n",
    "            y_predicted.append(1)\n",
    "    y_predicted=(np.array(y_predicted)).reshape(len(y_predicted),1)\n",
    "    return y_predicted.reshape(len(y_predicted),1)\n",
    "\n",
    "\n",
    "\n",
    "def accuracy(y_predicted,y_actual):\n",
    "    #y_actual=y_actual.reshape(len(y_actual),1)\n",
    "    return 100*(len(Y[y_predicted==y_actual])/len(y_predicted))\n",
    "    "
   ]
  },
  {
   "cell_type": "markdown",
   "metadata": {},
   "source": [
    "## On using Age and Salary as feature and assuming them to be Norally Distributed"
   ]
  },
  {
   "cell_type": "code",
   "execution_count": 240,
   "metadata": {},
   "outputs": [
    {
     "name": "stdout",
     "output_type": "stream",
     "text": [
      "Accuracy is 83.0 %\n"
     ]
    }
   ],
   "source": [
    "print(\"Accuracy is\",accuracy(predict_using_normal(X),Y),\"%\",)"
   ]
  },
  {
   "cell_type": "code",
   "execution_count": 241,
   "metadata": {},
   "outputs": [],
   "source": [
    "prediction=predict_using_normal(X)"
   ]
  },
  {
   "cell_type": "markdown",
   "metadata": {},
   "source": [
    "# Visualising the Results"
   ]
  },
  {
   "cell_type": "code",
   "execution_count": 255,
   "metadata": {},
   "outputs": [
    {
     "data": {
      "image/png": "[encoded data removed]",
      "text/plain": [
       "<Figure size 432x288 with 1 Axes>"
      ]
     },
     "metadata": {},
     "output_type": "display_data"
    }
   ],
   "source": [
    "plt.scatter(dataset[dataset['Purchased']==0]['Age'],dataset[dataset['Purchased']==0]['EstimatedSalary'],label=\"Purchased=0\")\n",
    "plt.scatter(dataset[dataset['Purchased']==1]['Age'],dataset[dataset['Purchased']==1]['EstimatedSalary'],label=\"Purchased=1\")\n",
    "plt.legend()\n",
    "plt.xlabel(\"Age\")\n",
    "plt.ylabel(\"Estimated Salary\")\n",
    "plt.show()"
   ]
  },
  {
   "cell_type": "code",
   "execution_count": 254,
   "metadata": {},
   "outputs": [
    {
     "data": {
      "image/png": "[encoded data removed]",
      "text/plain": [
       "<Figure size 432x288 with 1 Axes>"
      ]
     },
     "metadata": {},
     "output_type": "display_data"
    }
   ],
   "source": [
    "plt.scatter(dataset[prediction==0]['Age'],dataset[prediction==0]['EstimatedSalary'],label=\"Classified=0\",color=\"green\")\n",
    "plt.scatter(dataset[prediction==1]['Age'],dataset[prediction==1]['EstimatedSalary'],label=\"Classified=1\",color='red')\n",
    "plt.legend()\n",
    "plt.xlabel(\"Age\")\n",
    "plt.ylabel(\"Estimated Salary\")\n",
    "plt.show()"
   ]
  },
  {
   "cell_type": "code",
   "execution_count": 257,
   "metadata": {},
   "outputs": [
    {
     "name": "stdout",
     "output_type": "stream",
     "text": [
      "actual : [0]  Classified as :  [0]\n",
      "actual : [0]  Classified as :  [0]\n",
      "actual : [0]  Classified as :  [0]\n",
      "actual : [0]  Classified as :  [0]\n",
      "actual : [0]  Classified as :  [0]\n",
      "actual : [0]  Classified as :  [0]\n",
      "actual : [0]  Classified as :  [0]\n",
      "actual : [1]  Classified as :  [0]\n",
      "actual : [0]  Classified as :  [0]\n",
      "actual : [0]  Classified as :  [0]\n",
      "actual : [0]  Classified as :  [0]\n",
      "actual : [0]  Classified as :  [0]\n",
      "actual : [0]  Classified as :  [0]\n",
      "actual : [0]  Classified as :  [0]\n",
      "actual : [0]  Classified as :  [0]\n",
      "actual : [0]  Classified as :  [0]\n",
      "actual : [1]  Classified as :  [1]\n",
      "actual : [1]  Classified as :  [1]\n",
      "actual : [1]  Classified as :  [1]\n",
      "actual : [1]  Classified as :  [1]\n",
      "actual : [1]  Classified as :  [1]\n",
      "actual : [1]  Classified as :  [1]\n",
      "actual : [1]  Classified as :  [1]\n",
      "actual : [1]  Classified as :  [1]\n",
      "actual : [1]  Classified as :  [1]\n",
      "actual : [1]  Classified as :  [1]\n",
      "actual : [1]  Classified as :  [1]\n",
      "actual : [1]  Classified as :  [1]\n",
      "actual : [0]  Classified as :  [0]\n",
      "actual : [0]  Classified as :  [0]\n",
      "actual : [0]  Classified as :  [0]\n",
      "actual : [1]  Classified as :  [0]\n",
      "actual : [0]  Classified as :  [0]\n",
      "actual : [0]  Classified as :  [0]\n",
      "actual : [0]  Classified as :  [0]\n",
      "actual : [0]  Classified as :  [0]\n",
      "actual : [0]  Classified as :  [0]\n",
      "actual : [0]  Classified as :  [0]\n",
      "actual : [0]  Classified as :  [0]\n",
      "actual : [0]  Classified as :  [0]\n",
      "actual : [0]  Classified as :  [0]\n",
      "actual : [0]  Classified as :  [0]\n",
      "actual : [0]  Classified as :  [0]\n",
      "actual : [0]  Classified as :  [0]\n",
      "actual : [0]  Classified as :  [0]\n",
      "actual : [0]  Classified as :  [0]\n",
      "actual : [0]  Classified as :  [0]\n",
      "actual : [0]  Classified as :  [0]\n",
      "actual : [1]  Classified as :  [0]\n",
      "actual : [0]  Classified as :  [0]\n",
      "actual : [0]  Classified as :  [0]\n",
      "actual : [0]  Classified as :  [0]\n",
      "actual : [0]  Classified as :  [0]\n",
      "actual : [0]  Classified as :  [0]\n",
      "actual : [0]  Classified as :  [0]\n",
      "actual : [0]  Classified as :  [0]\n",
      "actual : [0]  Classified as :  [0]\n",
      "actual : [0]  Classified as :  [0]\n",
      "actual : [0]  Classified as :  [0]\n",
      "actual : [0]  Classified as :  [0]\n",
      "actual : [0]  Classified as :  [0]\n",
      "actual : [0]  Classified as :  [0]\n",
      "actual : [0]  Classified as :  [0]\n",
      "actual : [1]  Classified as :  [0]\n",
      "actual : [0]  Classified as :  [1]\n",
      "actual : [0]  Classified as :  [0]\n",
      "actual : [0]  Classified as :  [0]\n",
      "actual : [0]  Classified as :  [0]\n",
      "actual : [0]  Classified as :  [0]\n",
      "actual : [0]  Classified as :  [0]\n",
      "actual : [0]  Classified as :  [0]\n",
      "actual : [0]  Classified as :  [0]\n",
      "actual : [0]  Classified as :  [0]\n",
      "actual : [0]  Classified as :  [0]\n",
      "actual : [0]  Classified as :  [0]\n",
      "actual : [1]  Classified as :  [0]\n",
      "actual : [0]  Classified as :  [0]\n",
      "actual : [0]  Classified as :  [0]\n",
      "actual : [0]  Classified as :  [0]\n",
      "actual : [0]  Classified as :  [0]\n",
      "actual : [0]  Classified as :  [0]\n",
      "actual : [0]  Classified as :  [0]\n",
      "actual : [0]  Classified as :  [0]\n",
      "actual : [0]  Classified as :  [0]\n",
      "actual : [0]  Classified as :  [0]\n",
      "actual : [1]  Classified as :  [0]\n",
      "actual : [0]  Classified as :  [0]\n",
      "actual : [0]  Classified as :  [0]\n",
      "actual : [0]  Classified as :  [0]\n",
      "actual : [0]  Classified as :  [0]\n",
      "actual : [0]  Classified as :  [0]\n",
      "actual : [0]  Classified as :  [0]\n",
      "actual : [0]  Classified as :  [0]\n",
      "actual : [0]  Classified as :  [0]\n",
      "actual : [0]  Classified as :  [0]\n",
      "actual : [0]  Classified as :  [0]\n",
      "actual : [0]  Classified as :  [0]\n",
      "actual : [1]  Classified as :  [0]\n",
      "actual : [0]  Classified as :  [0]\n",
      "actual : [0]  Classified as :  [0]\n",
      "actual : [0]  Classified as :  [0]\n",
      "actual : [0]  Classified as :  [0]\n",
      "actual : [0]  Classified as :  [0]\n",
      "actual : [1]  Classified as :  [0]\n",
      "actual : [0]  Classified as :  [0]\n",
      "actual : [0]  Classified as :  [0]\n",
      "actual : [0]  Classified as :  [0]\n",
      "actual : [0]  Classified as :  [0]\n",
      "actual : [0]  Classified as :  [0]\n",
      "actual : [0]  Classified as :  [0]\n",
      "actual : [0]  Classified as :  [0]\n",
      "actual : [0]  Classified as :  [0]\n",
      "actual : [0]  Classified as :  [0]\n",
      "actual : [0]  Classified as :  [0]\n",
      "actual : [0]  Classified as :  [1]\n",
      "actual : [0]  Classified as :  [0]\n",
      "actual : [0]  Classified as :  [0]\n",
      "actual : [0]  Classified as :  [0]\n",
      "actual : [0]  Classified as :  [0]\n",
      "actual : [0]  Classified as :  [0]\n",
      "actual : [0]  Classified as :  [0]\n",
      "actual : [0]  Classified as :  [0]\n",
      "actual : [0]  Classified as :  [0]\n",
      "actual : [0]  Classified as :  [0]\n",
      "actual : [0]  Classified as :  [0]\n",
      "actual : [0]  Classified as :  [0]\n",
      "actual : [0]  Classified as :  [1]\n",
      "actual : [0]  Classified as :  [0]\n",
      "actual : [0]  Classified as :  [0]\n",
      "actual : [0]  Classified as :  [0]\n",
      "actual : [0]  Classified as :  [0]\n",
      "actual : [0]  Classified as :  [0]\n",
      "actual : [0]  Classified as :  [0]\n",
      "actual : [0]  Classified as :  [0]\n",
      "actual : [0]  Classified as :  [0]\n",
      "actual : [0]  Classified as :  [0]\n",
      "actual : [0]  Classified as :  [0]\n",
      "actual : [1]  Classified as :  [0]\n",
      "actual : [0]  Classified as :  [0]\n",
      "actual : [0]  Classified as :  [0]\n",
      "actual : [0]  Classified as :  [0]\n",
      "actual : [0]  Classified as :  [0]\n",
      "actual : [0]  Classified as :  [0]\n",
      "actual : [0]  Classified as :  [0]\n",
      "actual : [0]  Classified as :  [0]\n",
      "actual : [0]  Classified as :  [0]\n",
      "actual : [1]  Classified as :  [0]\n",
      "actual : [0]  Classified as :  [0]\n",
      "actual : [0]  Classified as :  [0]\n",
      "actual : [0]  Classified as :  [0]\n",
      "actual : [0]  Classified as :  [0]\n",
      "actual : [0]  Classified as :  [0]\n",
      "actual : [0]  Classified as :  [0]\n",
      "actual : [0]  Classified as :  [0]\n",
      "actual : [0]  Classified as :  [0]\n",
      "actual : [0]  Classified as :  [0]\n",
      "actual : [0]  Classified as :  [1]\n",
      "actual : [0]  Classified as :  [0]\n",
      "actual : [0]  Classified as :  [0]\n",
      "actual : [1]  Classified as :  [0]\n",
      "actual : [1]  Classified as :  [0]\n",
      "actual : [0]  Classified as :  [0]\n",
      "actual : [0]  Classified as :  [0]\n",
      "actual : [0]  Classified as :  [0]\n",
      "actual : [0]  Classified as :  [0]\n",
      "actual : [0]  Classified as :  [0]\n",
      "actual : [0]  Classified as :  [0]\n",
      "actual : [0]  Classified as :  [0]\n",
      "actual : [1]  Classified as :  [0]\n",
      "actual : [0]  Classified as :  [0]\n",
      "actual : [0]  Classified as :  [0]\n",
      "actual : [0]  Classified as :  [0]\n",
      "actual : [0]  Classified as :  [0]\n",
      "actual : [0]  Classified as :  [0]\n",
      "actual : [0]  Classified as :  [0]\n",
      "actual : [0]  Classified as :  [0]\n",
      "actual : [0]  Classified as :  [0]\n",
      "actual : [0]  Classified as :  [0]\n",
      "actual : [0]  Classified as :  [0]\n",
      "actual : [0]  Classified as :  [0]\n",
      "actual : [0]  Classified as :  [0]\n",
      "actual : [0]  Classified as :  [0]\n",
      "actual : [1]  Classified as :  [0]\n",
      "actual : [0]  Classified as :  [0]\n",
      "actual : [0]  Classified as :  [0]\n",
      "actual : [0]  Classified as :  [0]\n",
      "actual : [0]  Classified as :  [0]\n",
      "actual : [0]  Classified as :  [0]\n",
      "actual : [0]  Classified as :  [0]\n",
      "actual : [0]  Classified as :  [0]\n",
      "actual : [0]  Classified as :  [0]\n",
      "actual : [0]  Classified as :  [0]\n",
      "actual : [0]  Classified as :  [0]\n",
      "actual : [0]  Classified as :  [0]\n",
      "actual : [0]  Classified as :  [0]\n",
      "actual : [0]  Classified as :  [0]\n",
      "actual : [0]  Classified as :  [0]\n",
      "actual : [0]  Classified as :  [0]\n",
      "actual : [0]  Classified as :  [0]\n",
      "actual : [0]  Classified as :  [0]\n",
      "actual : [0]  Classified as :  [0]\n",
      "actual : [0]  Classified as :  [1]\n",
      "actual : [1]  Classified as :  [0]\n",
      "actual : [0]  Classified as :  [0]\n",
      "actual : [1]  Classified as :  [1]\n",
      "actual : [0]  Classified as :  [1]\n",
      "actual : [1]  Classified as :  [1]\n",
      "actual : [0]  Classified as :  [1]\n",
      "actual : [1]  Classified as :  [0]\n",
      "actual : [0]  Classified as :  [1]\n",
      "actual : [1]  Classified as :  [1]\n",
      "actual : [1]  Classified as :  [1]\n",
      "actual : [0]  Classified as :  [1]\n",
      "actual : [0]  Classified as :  [0]\n",
      "actual : [0]  Classified as :  [1]\n",
      "actual : [1]  Classified as :  [1]\n",
      "actual : [0]  Classified as :  [1]\n",
      "actual : [0]  Classified as :  [0]\n",
      "actual : [0]  Classified as :  [1]\n",
      "actual : [1]  Classified as :  [1]\n",
      "actual : [0]  Classified as :  [0]\n",
      "actual : [1]  Classified as :  [0]\n",
      "actual : [1]  Classified as :  [0]\n",
      "actual : [1]  Classified as :  [1]\n",
      "actual : [0]  Classified as :  [0]\n",
      "actual : [0]  Classified as :  [0]\n",
      "actual : [1]  Classified as :  [0]\n",
      "actual : [1]  Classified as :  [1]\n",
      "actual : [0]  Classified as :  [0]\n",
      "actual : [1]  Classified as :  [1]\n",
      "actual : [1]  Classified as :  [0]\n",
      "actual : [0]  Classified as :  [0]\n",
      "actual : [1]  Classified as :  [0]\n",
      "actual : [1]  Classified as :  [1]\n",
      "actual : [0]  Classified as :  [0]\n",
      "actual : [1]  Classified as :  [1]\n",
      "actual : [0]  Classified as :  [0]\n",
      "actual : [0]  Classified as :  [0]\n",
      "actual : [0]  Classified as :  [1]\n",
      "actual : [1]  Classified as :  [1]\n",
      "actual : [1]  Classified as :  [1]\n",
      "actual : [0]  Classified as :  [0]\n",
      "actual : [1]  Classified as :  [1]\n",
      "actual : [1]  Classified as :  [1]\n",
      "actual : [0]  Classified as :  [0]\n",
      "actual : [1]  Classified as :  [1]\n",
      "actual : [0]  Classified as :  [0]\n",
      "actual : [1]  Classified as :  [1]\n",
      "actual : [0]  Classified as :  [0]\n",
      "actual : [1]  Classified as :  [0]\n",
      "actual : [0]  Classified as :  [1]\n",
      "actual : [0]  Classified as :  [0]\n",
      "actual : [1]  Classified as :  [1]\n",
      "actual : [1]  Classified as :  [0]\n",
      "actual : [0]  Classified as :  [1]\n",
      "actual : [1]  Classified as :  [1]\n",
      "actual : [0]  Classified as :  [0]\n",
      "actual : [0]  Classified as :  [0]\n",
      "actual : [1]  Classified as :  [1]\n",
      "actual : [1]  Classified as :  [1]\n",
      "actual : [0]  Classified as :  [0]\n",
      "actual : [1]  Classified as :  [0]\n",
      "actual : [1]  Classified as :  [1]\n",
      "actual : [0]  Classified as :  [0]\n",
      "actual : [1]  Classified as :  [1]\n",
      "actual : [1]  Classified as :  [1]\n",
      "actual : [0]  Classified as :  [0]\n",
      "actual : [0]  Classified as :  [0]\n",
      "actual : [1]  Classified as :  [1]\n",
      "actual : [0]  Classified as :  [0]\n",
      "actual : [0]  Classified as :  [1]\n",
      "actual : [1]  Classified as :  [1]\n",
      "actual : [1]  Classified as :  [1]\n",
      "actual : [1]  Classified as :  [0]\n",
      "actual : [1]  Classified as :  [1]\n",
      "actual : [1]  Classified as :  [1]\n",
      "actual : [0]  Classified as :  [0]\n",
      "actual : [1]  Classified as :  [1]\n",
      "actual : [1]  Classified as :  [1]\n",
      "actual : [1]  Classified as :  [1]\n",
      "actual : [1]  Classified as :  [1]\n",
      "actual : [0]  Classified as :  [0]\n",
      "actual : [1]  Classified as :  [0]\n",
      "actual : [1]  Classified as :  [1]\n",
      "actual : [0]  Classified as :  [1]\n",
      "actual : [1]  Classified as :  [0]\n",
      "actual : [0]  Classified as :  [0]\n",
      "actual : [1]  Classified as :  [1]\n",
      "actual : [0]  Classified as :  [0]\n",
      "actual : [1]  Classified as :  [0]\n",
      "actual : [1]  Classified as :  [0]\n",
      "actual : [1]  Classified as :  [1]\n",
      "actual : [1]  Classified as :  [1]\n",
      "actual : [0]  Classified as :  [0]\n",
      "actual : [0]  Classified as :  [0]\n",
      "actual : [0]  Classified as :  [0]\n",
      "actual : [1]  Classified as :  [1]\n",
      "actual : [1]  Classified as :  [1]\n",
      "actual : [0]  Classified as :  [1]\n",
      "actual : [1]  Classified as :  [1]\n",
      "actual : [1]  Classified as :  [1]\n",
      "actual : [1]  Classified as :  [1]\n",
      "actual : [1]  Classified as :  [0]\n",
      "actual : [1]  Classified as :  [0]\n",
      "actual : [0]  Classified as :  [0]\n",
      "actual : [0]  Classified as :  [1]\n",
      "actual : [0]  Classified as :  [1]\n",
      "actual : [1]  Classified as :  [1]\n",
      "actual : [1]  Classified as :  [0]\n",
      "actual : [0]  Classified as :  [0]\n",
      "actual : [0]  Classified as :  [1]\n",
      "actual : [1]  Classified as :  [0]\n",
      "actual : [0]  Classified as :  [0]\n",
      "actual : [1]  Classified as :  [1]\n",
      "actual : [0]  Classified as :  [0]\n",
      "actual : [1]  Classified as :  [0]\n",
      "actual : [1]  Classified as :  [1]\n",
      "actual : [0]  Classified as :  [0]\n",
      "actual : [1]  Classified as :  [1]\n",
      "actual : [0]  Classified as :  [0]\n",
      "actual : [1]  Classified as :  [1]\n",
      "actual : [1]  Classified as :  [1]\n",
      "actual : [0]  Classified as :  [0]\n",
      "actual : [1]  Classified as :  [1]\n",
      "actual : [1]  Classified as :  [1]\n",
      "actual : [0]  Classified as :  [0]\n",
      "actual : [0]  Classified as :  [0]\n",
      "actual : [0]  Classified as :  [1]\n",
      "actual : [1]  Classified as :  [0]\n",
      "actual : [1]  Classified as :  [1]\n",
      "actual : [0]  Classified as :  [0]\n",
      "actual : [1]  Classified as :  [1]\n",
      "actual : [0]  Classified as :  [1]\n",
      "actual : [0]  Classified as :  [0]\n",
      "actual : [1]  Classified as :  [1]\n",
      "actual : [0]  Classified as :  [0]\n",
      "actual : [1]  Classified as :  [1]\n",
      "actual : [0]  Classified as :  [0]\n",
      "actual : [0]  Classified as :  [0]\n",
      "actual : [1]  Classified as :  [0]\n",
      "actual : [1]  Classified as :  [1]\n",
      "actual : [0]  Classified as :  [0]\n",
      "actual : [0]  Classified as :  [0]\n",
      "actual : [1]  Classified as :  [1]\n",
      "actual : [1]  Classified as :  [1]\n",
      "actual : [0]  Classified as :  [0]\n",
      "actual : [1]  Classified as :  [1]\n",
      "actual : [1]  Classified as :  [1]\n"
     ]
    },
    {
     "name": "stdout",
     "output_type": "stream",
     "text": [
      "actual : [0]  Classified as :  [0]\n",
      "actual : [0]  Classified as :  [0]\n",
      "actual : [1]  Classified as :  [0]\n",
      "actual : [0]  Classified as :  [0]\n",
      "actual : [1]  Classified as :  [1]\n",
      "actual : [0]  Classified as :  [0]\n",
      "actual : [1]  Classified as :  [0]\n",
      "actual : [1]  Classified as :  [1]\n",
      "actual : [1]  Classified as :  [1]\n",
      "actual : [0]  Classified as :  [0]\n",
      "actual : [1]  Classified as :  [0]\n",
      "actual : [0]  Classified as :  [1]\n",
      "actual : [1]  Classified as :  [1]\n",
      "actual : [1]  Classified as :  [1]\n",
      "actual : [1]  Classified as :  [1]\n",
      "actual : [0]  Classified as :  [1]\n",
      "actual : [1]  Classified as :  [1]\n",
      "actual : [1]  Classified as :  [1]\n",
      "actual : [1]  Classified as :  [1]\n",
      "actual : [1]  Classified as :  [1]\n",
      "actual : [0]  Classified as :  [0]\n",
      "actual : [1]  Classified as :  [1]\n",
      "actual : [1]  Classified as :  [1]\n",
      "actual : [1]  Classified as :  [1]\n",
      "actual : [0]  Classified as :  [0]\n",
      "actual : [1]  Classified as :  [1]\n",
      "actual : [0]  Classified as :  [0]\n",
      "actual : [1]  Classified as :  [1]\n",
      "actual : [0]  Classified as :  [1]\n",
      "actual : [0]  Classified as :  [1]\n",
      "actual : [1]  Classified as :  [0]\n",
      "actual : [1]  Classified as :  [1]\n",
      "actual : [0]  Classified as :  [1]\n",
      "actual : [1]  Classified as :  [1]\n",
      "actual : [1]  Classified as :  [1]\n",
      "actual : [1]  Classified as :  [1]\n",
      "actual : [1]  Classified as :  [1]\n",
      "actual : [1]  Classified as :  [1]\n",
      "actual : [1]  Classified as :  [1]\n",
      "actual : [0]  Classified as :  [0]\n",
      "actual : [1]  Classified as :  [1]\n",
      "actual : [1]  Classified as :  [1]\n",
      "actual : [1]  Classified as :  [1]\n",
      "actual : [1]  Classified as :  [1]\n",
      "actual : [1]  Classified as :  [1]\n",
      "actual : [1]  Classified as :  [1]\n",
      "actual : [0]  Classified as :  [0]\n",
      "actual : [1]  Classified as :  [1]\n",
      "actual : [1]  Classified as :  [1]\n",
      "actual : [1]  Classified as :  [1]\n",
      "actual : [0]  Classified as :  [0]\n",
      "actual : [1]  Classified as :  [1]\n"
     ]
    }
   ],
   "source": [
    "for i in range(len(prediction)):\n",
    "    print(\"actual :\",Y[i],\" Classified as : \",prediction[i])"
   ]
  },
  {
   "cell_type": "code",
   "execution_count": null,
   "metadata": {},
   "outputs": [],
   "source": []
  }
 ],
 "metadata": {
  "kernelspec": {
   "display_name": "Python 3",
   "language": "python",
   "name": "python3"
  },
  "language_info": {
   "codemirror_mode": {
    "name": "ipython",
    "version": 3
   },
   "file_extension": ".py",
   "mimetype": "text/x-python",
   "name": "python",
   "nbconvert_exporter": "python",
   "pygments_lexer": "ipython3",
   "version": "3.6.5"
  }
 },
 "nbformat": 4,
 "nbformat_minor": 2
}
