{
 "cells": [
  {
   "cell_type": "code",
   "execution_count": 1,
   "metadata": {},
   "outputs": [],
   "source": [
    "import numpy as np\n",
    "import pandas as pd\n",
    "import matplotlib.pyplot as plt\n"
   ]
  },
  {
   "cell_type": "code",
   "execution_count": 2,
   "metadata": {},
   "outputs": [],
   "source": [
    "dataset=pd.read_csv(\"datasets/housing.csv\")\n",
    "dataset=dataset.drop(\"ocean_proximity\",axis=1)\n"
   ]
  },
  {
   "cell_type": "code",
   "execution_count": 3,
   "metadata": {
    "scrolled": true
   },
   "outputs": [
    {
     "data": {
      "text/plain": [
       "longitude               0\n",
       "latitude                0\n",
       "housing_median_age      0\n",
       "total_rooms             0\n",
       "total_bedrooms        207\n",
       "population              0\n",
       "households              0\n",
       "median_income           0\n",
       "median_house_value      0\n",
       "dtype: int64"
      ]
     },
     "execution_count": 3,
     "metadata": {},
     "output_type": "execute_result"
    }
   ],
   "source": [
    "dataset.isnull().sum()"
   ]
  },
  {
   "cell_type": "code",
   "execution_count": 4,
   "metadata": {},
   "outputs": [],
   "source": [
    "dataset=dataset.dropna().copy()"
   ]
  },
  {
   "cell_type": "code",
   "execution_count": 5,
   "metadata": {},
   "outputs": [],
   "source": [
    "def scalar(x):\n",
    "    return (x-x.mean(axis=0))/x.std(axis=0)"
   ]
  },
  {
   "cell_type": "code",
   "execution_count": 6,
   "metadata": {},
   "outputs": [],
   "source": [
    "dataset=scalar(dataset)"
   ]
  },
  {
   "cell_type": "code",
   "execution_count": 7,
   "metadata": {},
   "outputs": [
    {
     "data": {
      "text/plain": [
       "(20433, 9)"
      ]
     },
     "execution_count": 7,
     "metadata": {},
     "output_type": "execute_result"
    }
   ],
   "source": [
    "dataset.shape"
   ]
  },
  {
   "cell_type": "code",
   "execution_count": 8,
   "metadata": {},
   "outputs": [],
   "source": [
    "target= dataset['median_house_value']\n",
    "target=np.array(target)\n",
    "target=target.reshape(target.shape[0],1)\n",
    "features=dataset.drop('median_house_value',axis=1)\n",
    "features=np.array(features)\n"
   ]
  },
  {
   "cell_type": "code",
   "execution_count": 9,
   "metadata": {},
   "outputs": [],
   "source": [
    "weights0=np.random.rand(features.shape[1],1)\n",
    "bias0=np.random.rand(1,1)"
   ]
  },
  {
   "cell_type": "code",
   "execution_count": 10,
   "metadata": {},
   "outputs": [],
   "source": [
    "def linear_model(m,x,c):\n",
    "    return np.matmul(x,m)+c\n",
    "\n",
    "def error(m,x,c,y):\n",
    "    return np.mean((linear_model(m,x,x)-y)**2)/100\n",
    "\n",
    "def derivative_wrt_weights(m,x,c,y):\n",
    "    derivatives=2*np.mean(np.multiply(x,linear_model(m,x,c)-y),axis=0)\n",
    "    derivatives= np.array(derivatives)\n",
    "    derivatives=derivatives.reshape(features.shape[1],1)\n",
    "    return derivatives\n",
    "     \n",
    "\n",
    "def derivative_wrt_bias(m,x,c,y):\n",
    "    derivative=2*np.mean(linear_model(m,x,c)-y)\n",
    "    derivative= np.array(derivative)\n",
    "    derivative=derivative.reshape(1,1)\n",
    "    return derivative\n",
    "\n",
    "def scalar(x):\n",
    "    return (x-np.mean(x))/np.std(x)\n",
    "\n",
    "def accuracy(m,x,c,y):\n",
    "    currentError = error(m,features,c,target)\n",
    "    maxError = np.mean(target**2)\n",
    "    return (1-(currentError / maxError))*100"
   ]
  },
  {
   "cell_type": "code",
   "execution_count": 11,
   "metadata": {},
   "outputs": [
    {
     "data": {
      "text/plain": [
       "array([ 0.44760247, -0.30901721, -0.39389877,  2.12118517,  2.14765786,\n",
       "        2.21166221,  2.16696086, -0.02954254])"
      ]
     },
     "execution_count": 11,
     "metadata": {},
     "output_type": "execute_result"
    }
   ],
   "source": [
    "np.mean(np.multiply(features,linear_model(weights0,features,bias0)-target),axis=0)"
   ]
  },
  {
   "cell_type": "code",
   "execution_count": 12,
   "metadata": {},
   "outputs": [],
   "source": [
    "def model_result(alpha,num_of_iteration):\n",
    "    weights=weights0\n",
    "    bias=bias0\n",
    "    error_cost=[]\n",
    "    for i in range(num_of_iteration):\n",
    "        weights = weights - alpha * derivative_wrt_weights(weights,features,bias,target)\n",
    "        bias = bias - alpha * derivative_wrt_bias(weights,features,bias,target)\n",
    "        error_cost.append(error(weights,features,bias,target))\n",
    "    plt.plot(error_cost)\n",
    "    print(\"Accuracy is: \",accuracy(weights,features,bias,target))\n",
    "    print(\"Error is: \",error(weights,features,bias,target))"
   ]
  },
  {
   "cell_type": "code",
   "execution_count": 13,
   "metadata": {},
   "outputs": [
    {
     "name": "stdout",
     "output_type": "stream",
     "text": [
      "Accuracy is:  96.89540173269106\n",
      "Error is:  0.031044463269052733\n"
     ]
    },
    {
     "data": {
      "image/png": "[encoded data removed]",
      "text/plain": [
       "<Figure size 432x288 with 1 Axes>"
      ]
     },
     "metadata": {},
     "output_type": "display_data"
    }
   ],
   "source": [
    "model_result(alpha=0.0015,num_of_iteration=100)"
   ]
  },
  {
   "cell_type": "code",
   "execution_count": 14,
   "metadata": {},
   "outputs": [
    {
     "name": "stdout",
     "output_type": "stream",
     "text": [
      "Accuracy is:  98.39352249636958\n",
      "Error is:  0.016063988819153472\n"
     ]
    },
    {
     "data": {
      "image/png": "[encoded data removed]",
      "text/plain": [
       "<Figure size 432x288 with 1 Axes>"
      ]
     },
     "metadata": {},
     "output_type": "display_data"
    }
   ],
   "source": [
    "model_result(alpha=0.0035,num_of_iteration=500)"
   ]
  },
  {
   "cell_type": "code",
   "execution_count": null,
   "metadata": {},
   "outputs": [],
   "source": []
  }
 ],
 "metadata": {
  "kernelspec": {
   "display_name": "Python 3",
   "language": "python",
   "name": "python3"
  },
  "language_info": {
   "codemirror_mode": {
    "name": "ipython",
    "version": 3
   },
   "file_extension": ".py",
   "mimetype": "text/x-python",
   "name": "python",
   "nbconvert_exporter": "python",
   "pygments_lexer": "ipython3",
   "version": "3.6.5"
  }
 },
 "nbformat": 4,
 "nbformat_minor": 2
}
