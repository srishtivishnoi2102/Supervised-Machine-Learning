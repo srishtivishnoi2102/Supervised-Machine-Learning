{
 "cells": [
  {
   "cell_type": "markdown",
   "metadata": {},
   "source": [
    "## importing necessary libraries"
   ]
  },
  {
   "cell_type": "code",
   "execution_count": 27,
   "metadata": {},
   "outputs": [],
   "source": [
    "import pandas as pd\n",
    "import numpy as np\n",
    "import matplotlib.pyplot as plt\n",
    "from IPython.display import clear_output\n",
    "import math"
   ]
  },
  {
   "cell_type": "markdown",
   "metadata": {},
   "source": [
    "## we are reading our californina housing price dataset in file \"housing.cvs\" using read_csv() method of pandas"
   ]
  },
  {
   "cell_type": "code",
   "execution_count": 28,
   "metadata": {},
   "outputs": [
    {
     "name": "stdout",
     "output_type": "stream",
     "text": [
      "data.shape : \n",
      " (20640, 10)\n"
     ]
    },
    {
     "data": {
      "text/html": [
       "<div>\n",
       "<style scoped>\n",
       "    .dataframe tbody tr th:only-of-type {\n",
       "        vertical-align: middle;\n",
       "    }\n",
       "\n",
       "    .dataframe tbody tr th {\n",
       "        vertical-align: top;\n",
       "    }\n",
       "\n",
       "    .dataframe thead th {\n",
       "        text-align: right;\n",
       "    }\n",
       "</style>\n",
       "<table border=\"1\" class=\"dataframe\">\n",
       "  <thead>\n",
       "    <tr style=\"text-align: right;\">\n",
       "      <th></th>\n",
       "      <th>longitude</th>\n",
       "      <th>latitude</th>\n",
       "      <th>housing_median_age</th>\n",
       "      <th>total_rooms</th>\n",
       "      <th>total_bedrooms</th>\n",
       "      <th>population</th>\n",
       "      <th>households</th>\n",
       "      <th>median_income</th>\n",
       "      <th>median_house_value</th>\n",
       "      <th>ocean_proximity</th>\n",
       "    </tr>\n",
       "  </thead>\n",
       "  <tbody>\n",
       "    <tr>\n",
       "      <th>0</th>\n",
       "      <td>-122.23</td>\n",
       "      <td>37.88</td>\n",
       "      <td>41.0</td>\n",
       "      <td>880.0</td>\n",
       "      <td>129.0</td>\n",
       "      <td>322.0</td>\n",
       "      <td>126.0</td>\n",
       "      <td>8.3252</td>\n",
       "      <td>452600.0</td>\n",
       "      <td>NEAR BAY</td>\n",
       "    </tr>\n",
       "    <tr>\n",
       "      <th>1</th>\n",
       "      <td>-122.22</td>\n",
       "      <td>37.86</td>\n",
       "      <td>21.0</td>\n",
       "      <td>7099.0</td>\n",
       "      <td>1106.0</td>\n",
       "      <td>2401.0</td>\n",
       "      <td>1138.0</td>\n",
       "      <td>8.3014</td>\n",
       "      <td>358500.0</td>\n",
       "      <td>NEAR BAY</td>\n",
       "    </tr>\n",
       "    <tr>\n",
       "      <th>2</th>\n",
       "      <td>-122.24</td>\n",
       "      <td>37.85</td>\n",
       "      <td>52.0</td>\n",
       "      <td>1467.0</td>\n",
       "      <td>190.0</td>\n",
       "      <td>496.0</td>\n",
       "      <td>177.0</td>\n",
       "      <td>7.2574</td>\n",
       "      <td>352100.0</td>\n",
       "      <td>NEAR BAY</td>\n",
       "    </tr>\n",
       "    <tr>\n",
       "      <th>3</th>\n",
       "      <td>-122.25</td>\n",
       "      <td>37.85</td>\n",
       "      <td>52.0</td>\n",
       "      <td>1274.0</td>\n",
       "      <td>235.0</td>\n",
       "      <td>558.0</td>\n",
       "      <td>219.0</td>\n",
       "      <td>5.6431</td>\n",
       "      <td>341300.0</td>\n",
       "      <td>NEAR BAY</td>\n",
       "    </tr>\n",
       "    <tr>\n",
       "      <th>4</th>\n",
       "      <td>-122.25</td>\n",
       "      <td>37.85</td>\n",
       "      <td>52.0</td>\n",
       "      <td>1627.0</td>\n",
       "      <td>280.0</td>\n",
       "      <td>565.0</td>\n",
       "      <td>259.0</td>\n",
       "      <td>3.8462</td>\n",
       "      <td>342200.0</td>\n",
       "      <td>NEAR BAY</td>\n",
       "    </tr>\n",
       "  </tbody>\n",
       "</table>\n",
       "</div>"
      ],
      "text/plain": [
       "   longitude  latitude  housing_median_age  total_rooms  total_bedrooms  \\\n",
       "0    -122.23     37.88                41.0        880.0           129.0   \n",
       "1    -122.22     37.86                21.0       7099.0          1106.0   \n",
       "2    -122.24     37.85                52.0       1467.0           190.0   \n",
       "3    -122.25     37.85                52.0       1274.0           235.0   \n",
       "4    -122.25     37.85                52.0       1627.0           280.0   \n",
       "\n",
       "   population  households  median_income  median_house_value ocean_proximity  \n",
       "0       322.0       126.0         8.3252            452600.0        NEAR BAY  \n",
       "1      2401.0      1138.0         8.3014            358500.0        NEAR BAY  \n",
       "2       496.0       177.0         7.2574            352100.0        NEAR BAY  \n",
       "3       558.0       219.0         5.6431            341300.0        NEAR BAY  \n",
       "4       565.0       259.0         3.8462            342200.0        NEAR BAY  "
      ]
     },
     "execution_count": 28,
     "metadata": {},
     "output_type": "execute_result"
    }
   ],
   "source": [
    "data =pd.read_csv(\"datasets/housing.csv\")\n",
    "\n",
    "print(\"data.shape : \\n\",data.shape)\n",
    "\n",
    "data.head()"
   ]
  },
  {
   "cell_type": "markdown",
   "metadata": {},
   "source": [
    "# Data Cleaning \n",
    "##  making sure that our data is icluding only those features which are having integer or float as datatype \n",
    "### we do so by using pandas' select_dtypes() method."
   ]
  },
  {
   "cell_type": "code",
   "execution_count": 29,
   "metadata": {},
   "outputs": [],
   "source": [
    "data=data.select_dtypes(include=('float64','int64'))"
   ]
  },
  {
   "cell_type": "markdown",
   "metadata": {},
   "source": [
    "### now we have removed 'ocean_proximity' feature from our data successively"
   ]
  },
  {
   "cell_type": "markdown",
   "metadata": {},
   "source": [
    "# Data Normalisation\n",
    "## Here we are doing standard normalisation by subtraction data by mean and dividing it with standard deviation so that our data can be standardised with mean=0 and std=1"
   ]
  },
  {
   "cell_type": "code",
   "execution_count": 31,
   "metadata": {},
   "outputs": [
    {
     "name": "stdout",
     "output_type": "stream",
     "text": [
      "Before Normalisation: \n",
      "\n",
      "data.mean():  [-1.19569704e+02  3.56318614e+01  2.86394864e+01  2.63576308e+03\n",
      "  5.37870553e+02  1.42547674e+03  4.99539680e+02  3.87067100e+00\n",
      "  2.06855817e+05]\n",
      "data.std():  [2.00353172e+00 2.13595240e+00 1.25855576e+01 2.18161525e+03\n",
      " 4.21385070e+02 1.13246212e+03 3.82329753e+02 1.89982172e+00\n",
      " 1.15395616e+05]\n",
      "\n",
      " After Normalisation: \n",
      "\n",
      "data.mean():  [-1.42921497e-12 -7.63668091e-14  1.81739851e-15 -9.59080199e-17\n",
      " -1.99180520e-16 -2.83652839e-16  7.56386502e-17 -2.52380965e-14\n",
      "  3.76787318e-16]\n",
      "data.std():  [1. 1. 1. 1. 1. 1. 1. 1. 1.]\n"
     ]
    }
   ],
   "source": [
    "print(\"Before Normalisation: \\n\")\n",
    "print(\"data.mean(): \",np.array(data.mean()))\n",
    "print(\"data.std(): \",np.array(data.std()))\n",
    "\n",
    "data =(data -data.mean())/data.std()\n",
    "\n",
    "print(\"\\n After Normalisation: \\n\")\n",
    "print(\"data.mean(): \",np.array(data.mean()))\n",
    "print(\"data.std(): \",np.array(data.std()))"
   ]
  },
  {
   "cell_type": "markdown",
   "metadata": {},
   "source": [
    "# making sure that our data is not having any NaN value\n",
    "### check which feature is having NaN values with pandas.isna() method"
   ]
  },
  {
   "cell_type": "code",
   "execution_count": 32,
   "metadata": {},
   "outputs": [
    {
     "data": {
      "text/plain": [
       "longitude               0\n",
       "latitude                0\n",
       "housing_median_age      0\n",
       "total_rooms             0\n",
       "total_bedrooms        207\n",
       "population              0\n",
       "households              0\n",
       "median_income           0\n",
       "median_house_value      0\n",
       "dtype: int64"
      ]
     },
     "execution_count": 32,
     "metadata": {},
     "output_type": "execute_result"
    }
   ],
   "source": [
    "data.isna().sum()"
   ]
  },
  {
   "cell_type": "code",
   "execution_count": 33,
   "metadata": {},
   "outputs": [],
   "source": [
    "#so here we find that 203 rows are there that are having NaN value in \"total_bedrooms\" feature\n",
    "# we will drop those rows by dropna() method with axis=0 i.e., row-wise.\n",
    "\n",
    "data=data.dropna(axis=0)"
   ]
  },
  {
   "cell_type": "code",
   "execution_count": 34,
   "metadata": {},
   "outputs": [
    {
     "data": {
      "text/plain": [
       "(20433, 9)"
      ]
     },
     "execution_count": 34,
     "metadata": {},
     "output_type": "execute_result"
    }
   ],
   "source": [
    "data.shape"
   ]
  },
  {
   "cell_type": "markdown",
   "metadata": {},
   "source": [
    "## splitting data into X (features) and Y (target_variable)"
   ]
  },
  {
   "cell_type": "code",
   "execution_count": 35,
   "metadata": {},
   "outputs": [],
   "source": [
    "X=data.drop('median_house_value',axis=1).copy()\n",
    "Y=data['median_house_value']"
   ]
  },
  {
   "cell_type": "markdown",
   "metadata": {},
   "source": [
    "## splitting of data into training and testing"
   ]
  },
  {
   "cell_type": "markdown",
   "metadata": {},
   "source": [
    "### writing train_split_data "
   ]
  },
  {
   "cell_type": "code",
   "execution_count": 36,
   "metadata": {},
   "outputs": [],
   "source": [
    "def train_test_split(X,Y,test_size=0.25,train_size=.75):\n",
    "    \n",
    "    train_size=1-test_size\n",
    "    \n",
    "    x_train=np.array(X[: int(train_size*X.shape[0])])\n",
    "    x_test=np.array(X[ int(train_size*X.shape[0]):])\n",
    "    \n",
    "    y_train=Y[: int(train_size*len(Y))]\n",
    "    y_train=np.array(y_train)\n",
    "    y_train=y_train.reshape(len(y_train),1)\n",
    "    \n",
    "    y_test=Y[int(train_size*len(Y)):]\n",
    "    y_test=np.array(y_test)\n",
    "    y_test=y_test.reshape(len(y_test),1)\n",
    "    \n",
    "    return x_train,x_test,y_train,y_test"
   ]
  },
  {
   "cell_type": "markdown",
   "metadata": {},
   "source": [
    "## In Polynomial Regression, of degree n\n",
    "### we raise the power of each feature from 1 to n and will treat them as separate feature"
   ]
  },
  {
   "cell_type": "markdown",
   "metadata": {},
   "source": []
  },
  {
   "cell_type": "code",
   "execution_count": 43,
   "metadata": {},
   "outputs": [],
   "source": [
    "def create_x_poly(x,degree=2):\n",
    "    temp=pd.DataFrame()\n",
    "    for deg in range(1,degree+1):\n",
    "        temp=pd.concat([temp,data**deg],axis=1)\n",
    "    return temp"
   ]
  },
  {
   "cell_type": "code",
   "execution_count": 48,
   "metadata": {},
   "outputs": [],
   "source": [
    "X_temp=create_x_poly(X,2)"
   ]
  },
  {
   "cell_type": "code",
   "execution_count": 49,
   "metadata": {},
   "outputs": [
    {
     "data": {
      "text/html": [
       "<div>\n",
       "<style scoped>\n",
       "    .dataframe tbody tr th:only-of-type {\n",
       "        vertical-align: middle;\n",
       "    }\n",
       "\n",
       "    .dataframe tbody tr th {\n",
       "        vertical-align: top;\n",
       "    }\n",
       "\n",
       "    .dataframe thead th {\n",
       "        text-align: right;\n",
       "    }\n",
       "</style>\n",
       "<table border=\"1\" class=\"dataframe\">\n",
       "  <thead>\n",
       "    <tr style=\"text-align: right;\">\n",
       "      <th></th>\n",
       "      <th>longitude</th>\n",
       "      <th>latitude</th>\n",
       "      <th>housing_median_age</th>\n",
       "      <th>total_rooms</th>\n",
       "      <th>total_bedrooms</th>\n",
       "      <th>population</th>\n",
       "      <th>households</th>\n",
       "      <th>median_income</th>\n",
       "      <th>median_house_value</th>\n",
       "      <th>longitude</th>\n",
       "      <th>latitude</th>\n",
       "      <th>housing_median_age</th>\n",
       "      <th>total_rooms</th>\n",
       "      <th>total_bedrooms</th>\n",
       "      <th>population</th>\n",
       "      <th>households</th>\n",
       "      <th>median_income</th>\n",
       "      <th>median_house_value</th>\n",
       "    </tr>\n",
       "  </thead>\n",
       "  <tbody>\n",
       "    <tr>\n",
       "      <th>0</th>\n",
       "      <td>-1.327803</td>\n",
       "      <td>1.052523</td>\n",
       "      <td>0.982119</td>\n",
       "      <td>-0.804800</td>\n",
       "      <td>-0.970301</td>\n",
       "      <td>-0.974405</td>\n",
       "      <td>-0.977009</td>\n",
       "      <td>2.344709</td>\n",
       "      <td>2.129580</td>\n",
       "      <td>1.763061</td>\n",
       "      <td>1.107804</td>\n",
       "      <td>0.964557</td>\n",
       "      <td>0.647702</td>\n",
       "      <td>0.941485</td>\n",
       "      <td>0.949465</td>\n",
       "      <td>0.954547</td>\n",
       "      <td>5.497660</td>\n",
       "      <td>4.535111</td>\n",
       "    </tr>\n",
       "    <tr>\n",
       "      <th>1</th>\n",
       "      <td>-1.322812</td>\n",
       "      <td>1.043159</td>\n",
       "      <td>-0.607004</td>\n",
       "      <td>2.045841</td>\n",
       "      <td>1.348243</td>\n",
       "      <td>0.861418</td>\n",
       "      <td>1.669921</td>\n",
       "      <td>2.332181</td>\n",
       "      <td>1.314124</td>\n",
       "      <td>1.749831</td>\n",
       "      <td>1.088181</td>\n",
       "      <td>0.368454</td>\n",
       "      <td>4.185464</td>\n",
       "      <td>1.817759</td>\n",
       "      <td>0.742041</td>\n",
       "      <td>2.788635</td>\n",
       "      <td>5.439070</td>\n",
       "      <td>1.726923</td>\n",
       "    </tr>\n",
       "    <tr>\n",
       "      <th>2</th>\n",
       "      <td>-1.332794</td>\n",
       "      <td>1.038478</td>\n",
       "      <td>1.856137</td>\n",
       "      <td>-0.535733</td>\n",
       "      <td>-0.825541</td>\n",
       "      <td>-0.820757</td>\n",
       "      <td>-0.843616</td>\n",
       "      <td>1.782656</td>\n",
       "      <td>1.258663</td>\n",
       "      <td>1.776340</td>\n",
       "      <td>1.078436</td>\n",
       "      <td>3.445243</td>\n",
       "      <td>0.287010</td>\n",
       "      <td>0.681518</td>\n",
       "      <td>0.673643</td>\n",
       "      <td>0.711689</td>\n",
       "      <td>3.177863</td>\n",
       "      <td>1.584232</td>\n",
       "    </tr>\n",
       "    <tr>\n",
       "      <th>3</th>\n",
       "      <td>-1.337785</td>\n",
       "      <td>1.038478</td>\n",
       "      <td>1.856137</td>\n",
       "      <td>-0.624199</td>\n",
       "      <td>-0.718750</td>\n",
       "      <td>-0.766010</td>\n",
       "      <td>-0.733764</td>\n",
       "      <td>0.932945</td>\n",
       "      <td>1.165072</td>\n",
       "      <td>1.789670</td>\n",
       "      <td>1.078436</td>\n",
       "      <td>3.445243</td>\n",
       "      <td>0.389625</td>\n",
       "      <td>0.516602</td>\n",
       "      <td>0.586771</td>\n",
       "      <td>0.538409</td>\n",
       "      <td>0.870386</td>\n",
       "      <td>1.357392</td>\n",
       "    </tr>\n",
       "    <tr>\n",
       "      <th>4</th>\n",
       "      <td>-1.337785</td>\n",
       "      <td>1.038478</td>\n",
       "      <td>1.856137</td>\n",
       "      <td>-0.462393</td>\n",
       "      <td>-0.611959</td>\n",
       "      <td>-0.759828</td>\n",
       "      <td>-0.629142</td>\n",
       "      <td>-0.012881</td>\n",
       "      <td>1.172871</td>\n",
       "      <td>1.789670</td>\n",
       "      <td>1.078436</td>\n",
       "      <td>3.445243</td>\n",
       "      <td>0.213807</td>\n",
       "      <td>0.374494</td>\n",
       "      <td>0.577339</td>\n",
       "      <td>0.395820</td>\n",
       "      <td>0.000166</td>\n",
       "      <td>1.375627</td>\n",
       "    </tr>\n",
       "  </tbody>\n",
       "</table>\n",
       "</div>"
      ],
      "text/plain": [
       "   longitude  latitude  housing_median_age  total_rooms  total_bedrooms  \\\n",
       "0  -1.327803  1.052523            0.982119    -0.804800       -0.970301   \n",
       "1  -1.322812  1.043159           -0.607004     2.045841        1.348243   \n",
       "2  -1.332794  1.038478            1.856137    -0.535733       -0.825541   \n",
       "3  -1.337785  1.038478            1.856137    -0.624199       -0.718750   \n",
       "4  -1.337785  1.038478            1.856137    -0.462393       -0.611959   \n",
       "\n",
       "   population  households  median_income  median_house_value  longitude  \\\n",
       "0   -0.974405   -0.977009       2.344709            2.129580   1.763061   \n",
       "1    0.861418    1.669921       2.332181            1.314124   1.749831   \n",
       "2   -0.820757   -0.843616       1.782656            1.258663   1.776340   \n",
       "3   -0.766010   -0.733764       0.932945            1.165072   1.789670   \n",
       "4   -0.759828   -0.629142      -0.012881            1.172871   1.789670   \n",
       "\n",
       "   latitude  housing_median_age  total_rooms  total_bedrooms  population  \\\n",
       "0  1.107804            0.964557     0.647702        0.941485    0.949465   \n",
       "1  1.088181            0.368454     4.185464        1.817759    0.742041   \n",
       "2  1.078436            3.445243     0.287010        0.681518    0.673643   \n",
       "3  1.078436            3.445243     0.389625        0.516602    0.586771   \n",
       "4  1.078436            3.445243     0.213807        0.374494    0.577339   \n",
       "\n",
       "   households  median_income  median_house_value  \n",
       "0    0.954547       5.497660            4.535111  \n",
       "1    2.788635       5.439070            1.726923  \n",
       "2    0.711689       3.177863            1.584232  \n",
       "3    0.538409       0.870386            1.357392  \n",
       "4    0.395820       0.000166            1.375627  "
      ]
     },
     "execution_count": 49,
     "metadata": {},
     "output_type": "execute_result"
    }
   ],
   "source": [
    "X_temp.head()"
   ]
  },
  {
   "cell_type": "code",
   "execution_count": 50,
   "metadata": {},
   "outputs": [
    {
     "data": {
      "text/html": [
       "<div>\n",
       "<style scoped>\n",
       "    .dataframe tbody tr th:only-of-type {\n",
       "        vertical-align: middle;\n",
       "    }\n",
       "\n",
       "    .dataframe tbody tr th {\n",
       "        vertical-align: top;\n",
       "    }\n",
       "\n",
       "    .dataframe thead th {\n",
       "        text-align: right;\n",
       "    }\n",
       "</style>\n",
       "<table border=\"1\" class=\"dataframe\">\n",
       "  <thead>\n",
       "    <tr style=\"text-align: right;\">\n",
       "      <th></th>\n",
       "      <th>longitude</th>\n",
       "      <th>latitude</th>\n",
       "      <th>housing_median_age</th>\n",
       "      <th>total_rooms</th>\n",
       "      <th>total_bedrooms</th>\n",
       "      <th>population</th>\n",
       "      <th>households</th>\n",
       "      <th>median_income</th>\n",
       "    </tr>\n",
       "  </thead>\n",
       "  <tbody>\n",
       "    <tr>\n",
       "      <th>0</th>\n",
       "      <td>-1.327803</td>\n",
       "      <td>1.052523</td>\n",
       "      <td>0.982119</td>\n",
       "      <td>-0.804800</td>\n",
       "      <td>-0.970301</td>\n",
       "      <td>-0.974405</td>\n",
       "      <td>-0.977009</td>\n",
       "      <td>2.344709</td>\n",
       "    </tr>\n",
       "    <tr>\n",
       "      <th>1</th>\n",
       "      <td>-1.322812</td>\n",
       "      <td>1.043159</td>\n",
       "      <td>-0.607004</td>\n",
       "      <td>2.045841</td>\n",
       "      <td>1.348243</td>\n",
       "      <td>0.861418</td>\n",
       "      <td>1.669921</td>\n",
       "      <td>2.332181</td>\n",
       "    </tr>\n",
       "    <tr>\n",
       "      <th>2</th>\n",
       "      <td>-1.332794</td>\n",
       "      <td>1.038478</td>\n",
       "      <td>1.856137</td>\n",
       "      <td>-0.535733</td>\n",
       "      <td>-0.825541</td>\n",
       "      <td>-0.820757</td>\n",
       "      <td>-0.843616</td>\n",
       "      <td>1.782656</td>\n",
       "    </tr>\n",
       "    <tr>\n",
       "      <th>3</th>\n",
       "      <td>-1.337785</td>\n",
       "      <td>1.038478</td>\n",
       "      <td>1.856137</td>\n",
       "      <td>-0.624199</td>\n",
       "      <td>-0.718750</td>\n",
       "      <td>-0.766010</td>\n",
       "      <td>-0.733764</td>\n",
       "      <td>0.932945</td>\n",
       "    </tr>\n",
       "    <tr>\n",
       "      <th>4</th>\n",
       "      <td>-1.337785</td>\n",
       "      <td>1.038478</td>\n",
       "      <td>1.856137</td>\n",
       "      <td>-0.462393</td>\n",
       "      <td>-0.611959</td>\n",
       "      <td>-0.759828</td>\n",
       "      <td>-0.629142</td>\n",
       "      <td>-0.012881</td>\n",
       "    </tr>\n",
       "  </tbody>\n",
       "</table>\n",
       "</div>"
      ],
      "text/plain": [
       "   longitude  latitude  housing_median_age  total_rooms  total_bedrooms  \\\n",
       "0  -1.327803  1.052523            0.982119    -0.804800       -0.970301   \n",
       "1  -1.322812  1.043159           -0.607004     2.045841        1.348243   \n",
       "2  -1.332794  1.038478            1.856137    -0.535733       -0.825541   \n",
       "3  -1.337785  1.038478            1.856137    -0.624199       -0.718750   \n",
       "4  -1.337785  1.038478            1.856137    -0.462393       -0.611959   \n",
       "\n",
       "   population  households  median_income  \n",
       "0   -0.974405   -0.977009       2.344709  \n",
       "1    0.861418    1.669921       2.332181  \n",
       "2   -0.820757   -0.843616       1.782656  \n",
       "3   -0.766010   -0.733764       0.932945  \n",
       "4   -0.759828   -0.629142      -0.012881  "
      ]
     },
     "execution_count": 50,
     "metadata": {},
     "output_type": "execute_result"
    }
   ],
   "source": [
    "X.head()"
   ]
  },
  {
   "cell_type": "code",
   "execution_count": null,
   "metadata": {},
   "outputs": [],
   "source": []
  },
  {
   "cell_type": "markdown",
   "metadata": {},
   "source": [
    "## splitting X,Y into training testing part using train_test_split()"
   ]
  },
  {
   "cell_type": "code",
   "execution_count": 51,
   "metadata": {},
   "outputs": [],
   "source": [
    "x_train,x_test,y_train,y_test=train_test_split(X_temp,Y)"
   ]
  },
  {
   "cell_type": "markdown",
   "metadata": {},
   "source": [
    "# initiallising the weights and bias from standard normal distribution"
   ]
  },
  {
   "cell_type": "code",
   "execution_count": 55,
   "metadata": {},
   "outputs": [],
   "source": [
    "weights0=np.random.rand(X_temp.shape[1],1)\n",
    "bias0=np.random.rand(1,1)"
   ]
  },
  {
   "cell_type": "code",
   "execution_count": 85,
   "metadata": {},
   "outputs": [
    {
     "data": {
      "text/plain": [
       "390.99332312744434"
      ]
     },
     "execution_count": 85,
     "metadata": {},
     "output_type": "execute_result"
    }
   ],
   "source": [
    "error(weights0,x_train,bias0,y_train)"
   ]
  },
  {
   "cell_type": "markdown",
   "metadata": {},
   "source": [
    "# to avoid overfitting, regularisation is done\n",
    "## reg_param can take any value between 0 and 1"
   ]
  },
  {
   "cell_type": "code",
   "execution_count": 87,
   "metadata": {},
   "outputs": [],
   "source": [
    "def curve(m,x,c):\n",
    "    return (np.matmul(x,m)+c)\n",
    "def error(m,x,c,y,reg_param=0):\n",
    "    return np.mean((curve(m,x,x)-y)**2) + reg_param*(np.sum(m)**2)\n",
    "\n",
    "def derivative_wrt_weights(m,x,c,y,reg_param=0):\n",
    "    derivatives=2*(np.mean(np.multiply(x,curve(m,x,c)-y),axis=0)) + 2*reg_param*(np.sum(m))\n",
    "    derivatives= np.array(derivatives)\n",
    "    derivatives=derivatives.reshape(x.shape[1],1)\n",
    "    return derivatives\n",
    "     \n",
    "\n",
    "def derivative_wrt_bias(m,x,c,y,reg_param=0):\n",
    "    return (2*np.mean(curve(m,x,c)-y)) \n",
    "\n",
    "def scalar(x):\n",
    "    return (x-np.mean(x))/np.std(x)\n",
    "\n",
    "def accuracy(error,y):\n",
    "    return (1 -error/np.sum(y**2))*100"
   ]
  },
  {
   "cell_type": "code",
   "execution_count": 101,
   "metadata": {},
   "outputs": [],
   "source": [
    "def model_result(alpha,num_of_iteration,reg_param=0):\n",
    "    weights=weights0\n",
    "    bias=bias0\n",
    "   # lr=[]\n",
    "    error_cost=[]\n",
    "    for i in range(num_of_iteration):\n",
    "       # alpha=alpha /((1.0085 )**i)\n",
    "       # alpha =alpha*(i+.9) *.0005\n",
    "        \n",
    "      #  alpha=alpha/(1.01 + (i%100)*.00001) \n",
    "    \n",
    "       # alpha =math.pow(alpha,1.5)*.00001 if i%500==0 and 1>10 else math.pow(alpha,1.0005)\n",
    "        \n",
    "        weights = weights - alpha * derivative_wrt_weights(weights,x_train,bias,y_train,reg_param)\n",
    "        bias = bias - alpha * derivative_wrt_bias(weights,x_train,bias,y_train,reg_param)\n",
    "        \n",
    "        error_cost.append(error(weights,x_train,bias,y_train,reg_param))\n",
    "        print(\"Error is: \",error_cost[i])\n",
    "        clear_output(True)\n",
    "    #    lr.append(alpha)\n",
    "    #print(\"lr func\")\n",
    "   # plt.plot(lr)\n",
    "    #plt.show()\n",
    "    print(\"cost func\")\n",
    "    plt.plot(error_cost)\n",
    "    print(\"Accuracy is: \",accuracy(error_cost[-1],y_train))\n",
    "    print(\"At endError is: \",error(weights,x_train,bias,y_train,reg_param))\n",
    "    return weights,bias\n"
   ]
  },
  {
   "cell_type": "code",
   "execution_count": 105,
   "metadata": {},
   "outputs": [
    {
     "name": "stdout",
     "output_type": "stream",
     "text": [
      "cost func\n",
      "Accuracy is:  99.49004555166542\n",
      "At endError is:  73.19018233300469\n"
     ]
    },
    {
     "data": {
      "image/png": "[encoded data removed]",
      "text/plain": [
       "<Figure size 432x288 with 1 Axes>"
      ]
     },
     "metadata": {},
     "output_type": "display_data"
    }
   ],
   "source": [
    " # getting the parameters weights and bias\n",
    "weights,bias = model_result(alpha=.0000025,num_of_iteration=2000,reg_param=0.85)"
   ]
  },
  {
   "cell_type": "markdown",
   "metadata": {},
   "source": [
    "# accuracy on training data:"
   ]
  },
  {
   "cell_type": "code",
   "execution_count": 106,
   "metadata": {},
   "outputs": [
    {
     "name": "stdout",
     "output_type": "stream",
     "text": [
      "Error is :  38.77586669089\n",
      "Accuracy is :  99.72982816715663 %\n"
     ]
    }
   ],
   "source": [
    "print(\"Error is : \",error(weights,x_train,bias,y_train))\n",
    "print(\"Accuracy is : \",accuracy(error(weights,x_train,bias,y_train),y_train),\"%\")"
   ]
  },
  {
   "cell_type": "markdown",
   "metadata": {},
   "source": [
    "# TESTING"
   ]
  },
  {
   "cell_type": "code",
   "execution_count": 107,
   "metadata": {},
   "outputs": [
    {
     "name": "stdout",
     "output_type": "stream",
     "text": [
      "Error is :  17.779770724416842\n",
      "Accuracy is :  99.70823598701712 %\n"
     ]
    }
   ],
   "source": [
    "print(\"Error is : \",error(weights,x_test,bias,y_test))\n",
    "print(\"Accuracy is : \",accuracy(error(weights,x_test,bias,y_test),y_test),\"%\")"
   ]
  },
  {
   "cell_type": "markdown",
   "metadata": {},
   "source": [
    "##  We can set the values for learning rate alpha and regularisation parameter by hit and trial.\n"
   ]
  },
  {
   "cell_type": "code",
   "execution_count": null,
   "metadata": {},
   "outputs": [],
   "source": []
  }
 ],
 "metadata": {
  "kernelspec": {
   "display_name": "Python 3",
   "language": "python",
   "name": "python3"
  },
  "language_info": {
   "codemirror_mode": {
    "name": "ipython",
    "version": 3
   },
   "file_extension": ".py",
   "mimetype": "text/x-python",
   "name": "python",
   "nbconvert_exporter": "python",
   "pygments_lexer": "ipython3",
   "version": "3.6.5"
  }
 },
 "nbformat": 4,
 "nbformat_minor": 2
}
