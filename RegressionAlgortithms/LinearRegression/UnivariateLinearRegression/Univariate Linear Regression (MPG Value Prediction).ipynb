{
 "cells": [
  {
   "cell_type": "markdown",
   "metadata": {},
   "source": [
    "# Objective :\n",
    "## To predict the value of mpg based on the one features like cylinders, displacement  , weight or acceleration, using Univariate Linear Regression\n",
    "\n",
    "# Linear Regression\n",
    "## In statistics, linear regression is a linear approach to modeling the relationship between a scalar response (or dependent variable) and one or more explanatory variables (or independent variables). The case of one explanatory variable is called simple linear regression.\n",
    "\n",
    "### importing necessary libraries"
   ]
  },
  {
   "cell_type": "code",
   "execution_count": 15,
   "metadata": {},
   "outputs": [],
   "source": [
    "import pandas as pd   # for reading the csv file\n",
    "import numpy as np     # for dea;ing with n-dimensional matrices\n",
    "import matplotlib.pyplot as plt       # for plotting the results\n",
    "from IPython.display import clear_output  \n"
   ]
  },
  {
   "cell_type": "code",
   "execution_count": 16,
   "metadata": {},
   "outputs": [
    {
     "data": {
      "text/html": [
       "<div>\n",
       "<style scoped>\n",
       "    .dataframe tbody tr th:only-of-type {\n",
       "        vertical-align: middle;\n",
       "    }\n",
       "\n",
       "    .dataframe tbody tr th {\n",
       "        vertical-align: top;\n",
       "    }\n",
       "\n",
       "    .dataframe thead th {\n",
       "        text-align: right;\n",
       "    }\n",
       "</style>\n",
       "<table border=\"1\" class=\"dataframe\">\n",
       "  <thead>\n",
       "    <tr style=\"text-align: right;\">\n",
       "      <th></th>\n",
       "      <th>mpg</th>\n",
       "      <th>cylinders</th>\n",
       "      <th>displacement</th>\n",
       "      <th>horsepower</th>\n",
       "      <th>weight</th>\n",
       "      <th>acceleration</th>\n",
       "      <th>model year</th>\n",
       "      <th>origin</th>\n",
       "      <th>car name</th>\n",
       "    </tr>\n",
       "  </thead>\n",
       "  <tbody>\n",
       "    <tr>\n",
       "      <th>0</th>\n",
       "      <td>18.0</td>\n",
       "      <td>8</td>\n",
       "      <td>307.0</td>\n",
       "      <td>130</td>\n",
       "      <td>3504</td>\n",
       "      <td>12.0</td>\n",
       "      <td>70</td>\n",
       "      <td>1</td>\n",
       "      <td>chevrolet chevelle malibu</td>\n",
       "    </tr>\n",
       "    <tr>\n",
       "      <th>1</th>\n",
       "      <td>15.0</td>\n",
       "      <td>8</td>\n",
       "      <td>350.0</td>\n",
       "      <td>165</td>\n",
       "      <td>3693</td>\n",
       "      <td>11.5</td>\n",
       "      <td>70</td>\n",
       "      <td>1</td>\n",
       "      <td>buick skylark 320</td>\n",
       "    </tr>\n",
       "    <tr>\n",
       "      <th>2</th>\n",
       "      <td>18.0</td>\n",
       "      <td>8</td>\n",
       "      <td>318.0</td>\n",
       "      <td>150</td>\n",
       "      <td>3436</td>\n",
       "      <td>11.0</td>\n",
       "      <td>70</td>\n",
       "      <td>1</td>\n",
       "      <td>plymouth satellite</td>\n",
       "    </tr>\n",
       "    <tr>\n",
       "      <th>3</th>\n",
       "      <td>16.0</td>\n",
       "      <td>8</td>\n",
       "      <td>304.0</td>\n",
       "      <td>150</td>\n",
       "      <td>3433</td>\n",
       "      <td>12.0</td>\n",
       "      <td>70</td>\n",
       "      <td>1</td>\n",
       "      <td>amc rebel sst</td>\n",
       "    </tr>\n",
       "    <tr>\n",
       "      <th>4</th>\n",
       "      <td>17.0</td>\n",
       "      <td>8</td>\n",
       "      <td>302.0</td>\n",
       "      <td>140</td>\n",
       "      <td>3449</td>\n",
       "      <td>10.5</td>\n",
       "      <td>70</td>\n",
       "      <td>1</td>\n",
       "      <td>ford torino</td>\n",
       "    </tr>\n",
       "  </tbody>\n",
       "</table>\n",
       "</div>"
      ],
      "text/plain": [
       "    mpg  cylinders  displacement horsepower  weight  acceleration  model year  \\\n",
       "0  18.0          8         307.0        130    3504          12.0          70   \n",
       "1  15.0          8         350.0        165    3693          11.5          70   \n",
       "2  18.0          8         318.0        150    3436          11.0          70   \n",
       "3  16.0          8         304.0        150    3433          12.0          70   \n",
       "4  17.0          8         302.0        140    3449          10.5          70   \n",
       "\n",
       "   origin                   car name  \n",
       "0       1  chevrolet chevelle malibu  \n",
       "1       1          buick skylark 320  \n",
       "2       1         plymouth satellite  \n",
       "3       1              amc rebel sst  \n",
       "4       1                ford torino  "
      ]
     },
     "execution_count": 16,
     "metadata": {},
     "output_type": "execute_result"
    }
   ],
   "source": [
    "dataset = pd.read_csv(\"datasets/auto-mpg.csv\")\n",
    "dataset.head()\n"
   ]
  },
  {
   "cell_type": "markdown",
   "metadata": {},
   "source": [
    "# Data Cleaning \n",
    "## 1. making sure that our data is icluding only those features which are having integer or float as datatype \n",
    "### we do so by using pandas' select_dtypes() method."
   ]
  },
  {
   "cell_type": "code",
   "execution_count": 17,
   "metadata": {},
   "outputs": [
    {
     "data": {
      "text/html": [
       "<div>\n",
       "<style scoped>\n",
       "    .dataframe tbody tr th:only-of-type {\n",
       "        vertical-align: middle;\n",
       "    }\n",
       "\n",
       "    .dataframe tbody tr th {\n",
       "        vertical-align: top;\n",
       "    }\n",
       "\n",
       "    .dataframe thead th {\n",
       "        text-align: right;\n",
       "    }\n",
       "</style>\n",
       "<table border=\"1\" class=\"dataframe\">\n",
       "  <thead>\n",
       "    <tr style=\"text-align: right;\">\n",
       "      <th></th>\n",
       "      <th>mpg</th>\n",
       "      <th>cylinders</th>\n",
       "      <th>displacement</th>\n",
       "      <th>weight</th>\n",
       "      <th>acceleration</th>\n",
       "      <th>model year</th>\n",
       "      <th>origin</th>\n",
       "    </tr>\n",
       "  </thead>\n",
       "  <tbody>\n",
       "    <tr>\n",
       "      <th>0</th>\n",
       "      <td>18.0</td>\n",
       "      <td>8</td>\n",
       "      <td>307.0</td>\n",
       "      <td>3504</td>\n",
       "      <td>12.0</td>\n",
       "      <td>70</td>\n",
       "      <td>1</td>\n",
       "    </tr>\n",
       "    <tr>\n",
       "      <th>1</th>\n",
       "      <td>15.0</td>\n",
       "      <td>8</td>\n",
       "      <td>350.0</td>\n",
       "      <td>3693</td>\n",
       "      <td>11.5</td>\n",
       "      <td>70</td>\n",
       "      <td>1</td>\n",
       "    </tr>\n",
       "    <tr>\n",
       "      <th>2</th>\n",
       "      <td>18.0</td>\n",
       "      <td>8</td>\n",
       "      <td>318.0</td>\n",
       "      <td>3436</td>\n",
       "      <td>11.0</td>\n",
       "      <td>70</td>\n",
       "      <td>1</td>\n",
       "    </tr>\n",
       "    <tr>\n",
       "      <th>3</th>\n",
       "      <td>16.0</td>\n",
       "      <td>8</td>\n",
       "      <td>304.0</td>\n",
       "      <td>3433</td>\n",
       "      <td>12.0</td>\n",
       "      <td>70</td>\n",
       "      <td>1</td>\n",
       "    </tr>\n",
       "    <tr>\n",
       "      <th>4</th>\n",
       "      <td>17.0</td>\n",
       "      <td>8</td>\n",
       "      <td>302.0</td>\n",
       "      <td>3449</td>\n",
       "      <td>10.5</td>\n",
       "      <td>70</td>\n",
       "      <td>1</td>\n",
       "    </tr>\n",
       "  </tbody>\n",
       "</table>\n",
       "</div>"
      ],
      "text/plain": [
       "    mpg  cylinders  displacement  weight  acceleration  model year  origin\n",
       "0  18.0          8         307.0    3504          12.0          70       1\n",
       "1  15.0          8         350.0    3693          11.5          70       1\n",
       "2  18.0          8         318.0    3436          11.0          70       1\n",
       "3  16.0          8         304.0    3433          12.0          70       1\n",
       "4  17.0          8         302.0    3449          10.5          70       1"
      ]
     },
     "execution_count": 17,
     "metadata": {},
     "output_type": "execute_result"
    }
   ],
   "source": [
    "dataset=dataset.select_dtypes(include=('float64','int64'))  #this will remove the 'ocean_proximity' feature\n",
    "dataset.head()"
   ]
  },
  {
   "cell_type": "markdown",
   "metadata": {},
   "source": [
    "## 2. making sure that our data is not having any NaN value\n",
    "### check which feature is having NaN values with pandas.isna() method"
   ]
  },
  {
   "cell_type": "code",
   "execution_count": 18,
   "metadata": {},
   "outputs": [
    {
     "data": {
      "text/plain": [
       "mpg             0\n",
       "cylinders       0\n",
       "displacement    0\n",
       "weight          0\n",
       "acceleration    0\n",
       "model year      0\n",
       "origin          0\n",
       "dtype: int64"
      ]
     },
     "execution_count": 18,
     "metadata": {},
     "output_type": "execute_result"
    }
   ],
   "source": [
    "dataset.isna().sum()"
   ]
  },
  {
   "cell_type": "markdown",
   "metadata": {},
   "source": [
    "## 3. Data Normalisation\n",
    "## Here we are doing standard normalisation by subtraction data by mean and dividing it with standard deviation so that our data can be standardised with mean=0 and std=1"
   ]
  },
  {
   "cell_type": "code",
   "execution_count": 19,
   "metadata": {},
   "outputs": [],
   "source": [
    "def scalar(x):\n",
    "    return (x-np.mean(x))/np.std(x)\n"
   ]
  },
  {
   "cell_type": "code",
   "execution_count": 20,
   "metadata": {},
   "outputs": [
    {
     "name": "stdout",
     "output_type": "stream",
     "text": [
      "Before Normalisation: \n",
      "\n",
      "dataset.mean():  [2.35145729e+01 5.45477387e+00 1.93425879e+02 2.97042462e+03\n",
      " 1.55680905e+01 7.60100503e+01 1.57286432e+00]\n",
      "dataset.std():  [7.81598431e+00 1.70100424e+00 1.04269838e+02 8.46841774e+02\n",
      " 2.75768893e+00 3.69762665e+00 8.02054878e-01]\n",
      "\n",
      " After Normalisation: \n",
      "\n",
      "dataset.mean():  [-7.28339778e-16 -7.67113899e-16 -1.20506620e-16 -1.39475254e-17\n",
      "  5.90315067e-15 -8.83715212e-16 -4.53573527e-16]\n",
      "dataset.std():  [1.00125865 1.00125865 1.00125865 1.00125865 1.00125865 1.00125865\n",
      " 1.00125865]\n"
     ]
    }
   ],
   "source": [
    "print(\"Before Normalisation: \\n\")\n",
    "print(\"dataset.mean(): \",np.array(dataset.mean()))\n",
    "print(\"dataset.std(): \",np.array(dataset.std()))\n",
    "\n",
    "dataset =scalar(dataset)\n",
    "\n",
    "print(\"\\n After Normalisation: \\n\")\n",
    "print(\"dataset.mean(): \",np.array(dataset.mean()))\n",
    "print(\"dataset.std(): \",np.array(dataset.std()))"
   ]
  },
  {
   "cell_type": "markdown",
   "metadata": {},
   "source": [
    "## selecting the target_variable we want to predict"
   ]
  },
  {
   "cell_type": "code",
   "execution_count": 21,
   "metadata": {},
   "outputs": [],
   "source": [
    "target=dataset['mpg']"
   ]
  },
  {
   "cell_type": "markdown",
   "metadata": {},
   "source": [
    "# for univariate regression,\n",
    "###                y=x*m + c\n",
    "###               where x is our independent feature variable and y is our dependent variable\n",
    "###               we are trying to fit a line between our x and y\n",
    "###                         m is the slope of the line and c is the intercept we have on y axis.\n",
    "###              here the y, i.e., target variable is the 'median_house_value'"
   ]
  },
  {
   "cell_type": "code",
   "execution_count": 22,
   "metadata": {},
   "outputs": [],
   "source": [
    "def line(m,x,c):\n",
    "    return m*x + c"
   ]
  },
  {
   "cell_type": "markdown",
   "metadata": {},
   "source": [
    "###  In Regression, we will be calculating the Mean Squared Error\n",
    "###    error  = mean(  ( y_predicted - y_dataset ) ^2 )\n",
    "#####  y_predicted will be calculated from our linear regression model."
   ]
  },
  {
   "cell_type": "code",
   "execution_count": 23,
   "metadata": {},
   "outputs": [],
   "source": [
    "def error(m,x,c,y):\n",
    "    return np.mean((line(m,x,c)-y)**2)"
   ]
  },
  {
   "cell_type": "code",
   "execution_count": null,
   "metadata": {},
   "outputs": [],
   "source": []
  },
  {
   "cell_type": "markdown",
   "metadata": {},
   "source": [
    "## Improving the performance of our model\n",
    "\n",
    "### We need to minimise the error in order to improve the performance of our model.\n",
    "### In the Error Function(m,x,c,y) .... x and y are from the dataset, that's why there are constant and the only parameter  which decide the  value of error are....   m and c\n",
    "### So basically error is a function of m and c and we know we need to minimise the error.  For this, we need to find the best possible values of m and c for which our error will be minimum.\n",
    "### To find best values of m and c, We use Gradient Descent Algorithm."
   ]
  },
  {
   "cell_type": "code",
   "execution_count": 24,
   "metadata": {},
   "outputs": [],
   "source": [
    "# derivative of error function wrt to slope,m.\n",
    "def derivative_wrt_m(m,x,c,y):\n",
    "    return np.mean((line(m,x,c)-y)*x)\n",
    "\n",
    "# derivative of error function wrt to intercept,c.\n",
    "def derivative_wrt_c(m,x,c,y):\n",
    "    return np.mean(line(m,x,c)-y)\n",
    "\n",
    "\n",
    "def accuracy(m,x,c,y):\n",
    "    currentError = error(m,feature,c,target)\n",
    "    maxError = np.mean(target**2)\n",
    "    return (1-(currentError / maxError))*100"
   ]
  },
  {
   "cell_type": "markdown",
   "metadata": {},
   "source": [
    "## setting initial values for slope and intercept "
   ]
  },
  {
   "cell_type": "code",
   "execution_count": 47,
   "metadata": {},
   "outputs": [],
   "source": [
    "# selecting initial values from standard normal distribution\n",
    "m0=np.random.random()\n",
    "c0=np.random.random()"
   ]
  },
  {
   "cell_type": "markdown",
   "metadata": {},
   "source": [
    "##  training the model by gradient descent algorithm by updating the values of m and c in the direction of gradients, i.e., derivative wrt m and c respectively"
   ]
  },
  {
   "cell_type": "code",
   "execution_count": 87,
   "metadata": {},
   "outputs": [],
   "source": [
    "def model_train(alpha,num_of_iteration,feature):\n",
    "    m=m0\n",
    "    c=c0\n",
    "    cost=[]\n",
    "    for i in range(num_of_iteration):\n",
    "        m=m-alpha*derivative_wrt_m(m,feature,c,target)\n",
    "        c=c-alpha*derivative_wrt_c(m,feature,c,target)\n",
    "        cost.append(error(m,feature,c,target))\n",
    "        print(cost[i])\n",
    "        clear_output(True)\n",
    "    plt.scatter(feature,target,color='blue',label=\"Actual\")\n",
    "    plt.scatter(feature,line(m0,feature,c0),color='Red',label=\"Before training\")\n",
    "    plt.scatter(feature,line(m,feature,c),color='orange',label=\"After training\")\n",
    "    plt.legend()\n",
    "    plt.xlabel(\"feature used\")\n",
    "    plt.ylabel(\"MPG values\")\n",
    "    plt.show()\n",
    "    plt.plot(cost)\n",
    "    plt.xlabel(\"iteration number\")\n",
    "    plt.ylabel(\"Error\")\n",
    "    plt.show()\n",
    "    print(\"The error is : \",error(m,feature,c,target))\n",
    "\n"
   ]
  },
  {
   "cell_type": "markdown",
   "metadata": {},
   "source": [
    "## Feature Selection based on correlation of mpg with rest of the features"
   ]
  },
  {
   "cell_type": "code",
   "execution_count": 88,
   "metadata": {},
   "outputs": [
    {
     "data": {
      "text/plain": [
       "cylinders      -0.775396\n",
       "displacement   -0.804203\n",
       "weight         -0.831741\n",
       "acceleration    0.420289\n",
       "model year      0.579267\n",
       "origin          0.563450\n",
       "Name: mpg, dtype: float64"
      ]
     },
     "execution_count": 88,
     "metadata": {},
     "output_type": "execute_result"
    }
   ],
   "source": [
    "dataset.corr()['mpg'].drop('mpg',axis=0)"
   ]
  },
  {
   "cell_type": "markdown",
   "metadata": {},
   "source": [
    "## As we can see  weight is having the maximum correlation with the target variable mpg\n",
    "### selecting feature= dataset['weight']"
   ]
  },
  {
   "cell_type": "code",
   "execution_count": 91,
   "metadata": {},
   "outputs": [
    {
     "data": {
      "image/png": "[encoded data removed]",
      "text/plain": [
       "<Figure size 432x288 with 1 Axes>"
      ]
     },
     "metadata": {},
     "output_type": "display_data"
    },
    {
     "data": {
      "image/png": "[encoded data removed]",
      "text/plain": [
       "<Figure size 432x288 with 1 Axes>"
      ]
     },
     "metadata": {},
     "output_type": "display_data"
    },
    {
     "name": "stdout",
     "output_type": "stream",
     "text": [
      "The error is :  0.369705036780296\n"
     ]
    }
   ],
   "source": [
    "model_train(alpha=0.001,num_of_iteration=5000,feature=dataset['weight'])"
   ]
  },
  {
   "cell_type": "code",
   "execution_count": 92,
   "metadata": {},
   "outputs": [
    {
     "data": {
      "image/png": "[encoded data removed]",
      "text/plain": [
       "<Figure size 432x288 with 1 Axes>"
      ]
     },
     "metadata": {},
     "output_type": "display_data"
    },
    {
     "data": {
      "image/png": "[encoded data removed]",
      "text/plain": [
       "<Figure size 432x288 with 1 Axes>"
      ]
     },
     "metadata": {},
     "output_type": "display_data"
    },
    {
     "name": "stdout",
     "output_type": "stream",
     "text": [
      "The error is :  0.30835900137494887\n"
     ]
    }
   ],
   "source": [
    "model_train(alpha=0.001,num_of_iteration=5000,feature=dataset['weight'])"
   ]
  },
  {
   "cell_type": "code",
   "execution_count": null,
   "metadata": {},
   "outputs": [],
   "source": []
  }
 ],
 "metadata": {
  "kernelspec": {
   "display_name": "Python 3",
   "language": "python",
   "name": "python3"
  },
  "language_info": {
   "codemirror_mode": {
    "name": "ipython",
    "version": 3
   },
   "file_extension": ".py",
   "mimetype": "text/x-python",
   "name": "python",
   "nbconvert_exporter": "python",
   "pygments_lexer": "ipython3",
   "version": "3.6.5"
  }
 },
 "nbformat": 4,
 "nbformat_minor": 2
}
