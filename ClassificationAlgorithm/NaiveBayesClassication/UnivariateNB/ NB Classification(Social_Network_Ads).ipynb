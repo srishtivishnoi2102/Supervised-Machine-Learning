{
 "cells": [
  {
   "cell_type": "markdown",
   "metadata": {},
   "source": [
    "# Objective is to classify whether or not a user will purchase the product or not if ad is shown to him based on user's age and salary"
   ]
  },
  {
   "cell_type": "code",
   "execution_count": null,
   "metadata": {},
   "outputs": [],
   "source": []
  },
  {
   "cell_type": "code",
   "execution_count": 296,
   "metadata": {},
   "outputs": [],
   "source": [
    "import pandas as pd   # for reading the csv file\n",
    "import numpy as np     # for dea;ing with n-dimensional matrices\n",
    "import matplotlib.pyplot as plt       # for plotting the results\n",
    "from IPython.display import clear_output  \n",
    "from scipy.stats import norm"
   ]
  },
  {
   "cell_type": "code",
   "execution_count": 297,
   "metadata": {},
   "outputs": [
    {
     "data": {
      "text/html": [
       "<div>\n",
       "<style scoped>\n",
       "    .dataframe tbody tr th:only-of-type {\n",
       "        vertical-align: middle;\n",
       "    }\n",
       "\n",
       "    .dataframe tbody tr th {\n",
       "        vertical-align: top;\n",
       "    }\n",
       "\n",
       "    .dataframe thead th {\n",
       "        text-align: right;\n",
       "    }\n",
       "</style>\n",
       "<table border=\"1\" class=\"dataframe\">\n",
       "  <thead>\n",
       "    <tr style=\"text-align: right;\">\n",
       "      <th></th>\n",
       "      <th>Age</th>\n",
       "      <th>EstimatedSalary</th>\n",
       "      <th>Purchased</th>\n",
       "    </tr>\n",
       "  </thead>\n",
       "  <tbody>\n",
       "    <tr>\n",
       "      <th>0</th>\n",
       "      <td>19</td>\n",
       "      <td>19000</td>\n",
       "      <td>0</td>\n",
       "    </tr>\n",
       "    <tr>\n",
       "      <th>1</th>\n",
       "      <td>35</td>\n",
       "      <td>20000</td>\n",
       "      <td>0</td>\n",
       "    </tr>\n",
       "    <tr>\n",
       "      <th>2</th>\n",
       "      <td>26</td>\n",
       "      <td>43000</td>\n",
       "      <td>0</td>\n",
       "    </tr>\n",
       "    <tr>\n",
       "      <th>3</th>\n",
       "      <td>27</td>\n",
       "      <td>57000</td>\n",
       "      <td>0</td>\n",
       "    </tr>\n",
       "    <tr>\n",
       "      <th>4</th>\n",
       "      <td>19</td>\n",
       "      <td>76000</td>\n",
       "      <td>0</td>\n",
       "    </tr>\n",
       "  </tbody>\n",
       "</table>\n",
       "</div>"
      ],
      "text/plain": [
       "   Age  EstimatedSalary  Purchased\n",
       "0   19            19000          0\n",
       "1   35            20000          0\n",
       "2   26            43000          0\n",
       "3   27            57000          0\n",
       "4   19            76000          0"
      ]
     },
     "execution_count": 297,
     "metadata": {},
     "output_type": "execute_result"
    }
   ],
   "source": [
    "dataset = pd.read_csv(\"Social_Network_Ads.csv\")   \n",
    "\n",
    "dataset=dataset.drop(['User ID','Gender'],axis=1)\n",
    "dataset.head()"
   ]
  },
  {
   "cell_type": "code",
   "execution_count": 298,
   "metadata": {},
   "outputs": [
    {
     "data": {
      "text/plain": [
       "Age                0\n",
       "EstimatedSalary    0\n",
       "Purchased          0\n",
       "dtype: int64"
      ]
     },
     "execution_count": 298,
     "metadata": {},
     "output_type": "execute_result"
    }
   ],
   "source": [
    "dataset.isna().sum()   #checking the presence of NaN values in the dataset"
   ]
  },
  {
   "cell_type": "markdown",
   "metadata": {},
   "source": [
    "## Plotting the datapoints"
   ]
  },
  {
   "cell_type": "code",
   "execution_count": 299,
   "metadata": {},
   "outputs": [
    {
     "data": {
      "image/png": "[encoded data removed]",
      "text/plain": [
       "<Figure size 432x288 with 1 Axes>"
      ]
     },
     "metadata": {},
     "output_type": "display_data"
    }
   ],
   "source": [
    "plt.scatter(dataset[dataset['Purchased']==0]['Age'],dataset[dataset['Purchased']==0]['EstimatedSalary'],label=\"Purchased=0\")\n",
    "plt.scatter(dataset[dataset['Purchased']==1]['Age'],dataset[dataset['Purchased']==1]['EstimatedSalary'],label=\"Purchased=1\")\n",
    "plt.legend()\n",
    "plt.xlabel(\"Age\")\n",
    "plt.ylabel(\"Estimated Salary\")\n",
    "plt.show()"
   ]
  },
  {
   "cell_type": "code",
   "execution_count": 300,
   "metadata": {},
   "outputs": [
    {
     "data": {
      "text/plain": [
       "(array([28., 37., 46., 35., 77., 65., 35., 31., 18., 28.]),\n",
       " array([18. , 22.2, 26.4, 30.6, 34.8, 39. , 43.2, 47.4, 51.6, 55.8, 60. ]),\n",
       " <a list of 10 Patch objects>)"
      ]
     },
     "execution_count": 300,
     "metadata": {},
     "output_type": "execute_result"
    },
    {
     "data": {
      "image/png": "[encoded data removed]",
      "text/plain": [
       "<Figure size 432x288 with 1 Axes>"
      ]
     },
     "metadata": {},
     "output_type": "display_data"
    }
   ],
   "source": [
    "plt.hist(dataset['Age'])"
   ]
  },
  {
   "cell_type": "code",
   "execution_count": 301,
   "metadata": {},
   "outputs": [
    {
     "data": {
      "text/plain": [
       "(array([51., 39., 58., 50., 82., 40., 22., 19., 17., 22.]),\n",
       " array([ 15000.,  28500.,  42000.,  55500.,  69000.,  82500.,  96000.,\n",
       "        109500., 123000., 136500., 150000.]),\n",
       " <a list of 10 Patch objects>)"
      ]
     },
     "execution_count": 301,
     "metadata": {},
     "output_type": "execute_result"
    },
    {
     "data": {
      "image/png": "[encoded data removed]",
      "text/plain": [
       "<Figure size 432x288 with 1 Axes>"
      ]
     },
     "metadata": {},
     "output_type": "display_data"
    }
   ],
   "source": [
    "plt.hist(dataset['EstimatedSalary'])"
   ]
  },
  {
   "cell_type": "markdown",
   "metadata": {},
   "source": [
    "# selecting Y, "
   ]
  },
  {
   "cell_type": "code",
   "execution_count": 302,
   "metadata": {},
   "outputs": [],
   "source": [
    "Y=(np.array(dataset['Purchased'])).reshape(len(dataset),1)"
   ]
  },
  {
   "cell_type": "markdown",
   "metadata": {},
   "source": [
    "# Naive Bayes Classification Algorithm"
   ]
  },
  {
   "cell_type": "markdown",
   "metadata": {},
   "source": [
    "### $$  P( class=1 | feature=x) = \\frac{P( feature=x | class=1 )  * P( class=1)} {[(P( feature=x | class=1 )  * P( class=1))+(P( feature=x | class=1 )  * P( class=1))]}  $$\n",
    "\n",
    "##  where\n",
    "###          P( class=1 | feature=x) is our Posterior Probabilty of User Purchasing the product provided feature=x \n",
    "###                       if P( class=1 | feature=x)> P( class=0 | feature=x), class_predicted=1 elseclass_predicted=0\n",
    "###          P( feature=x | class=1 ) is our likelihood probability which will be calculed from the data distribution itself. If we random pick up an user from the set of user for whom Purchase=1, then  P( age=x | class=1 )  is the probabilty that the feature value = x.\n",
    "###          P(class=1) is the Prior Probablity and it can be calculated as \n",
    "## $$   P(class=1)=  \\frac{numberOfRowsWith(Purchase==1)}{TotalNumberOfRows} $$  "
   ]
  },
  {
   "cell_type": "code",
   "execution_count": null,
   "metadata": {},
   "outputs": [],
   "source": []
  },
  {
   "cell_type": "markdown",
   "metadata": {},
   "source": [
    "## calculating prior probabilities:"
   ]
  },
  {
   "cell_type": "code",
   "execution_count": 303,
   "metadata": {},
   "outputs": [],
   "source": [
    "prior_class0=len(dataset[dataset['Purchased']==0])/len(dataset)\n",
    "prior_class1=len(dataset[dataset['Purchased']==1])/len(dataset)"
   ]
  },
  {
   "cell_type": "code",
   "execution_count": null,
   "metadata": {},
   "outputs": [],
   "source": []
  },
  {
   "cell_type": "markdown",
   "metadata": {},
   "source": [
    "# 1. taking Estimated as the feature,\n",
    "## Since Age is having the maximum correlation with the target.  So we will be using Age to classify when or not the user will purchase the product"
   ]
  },
  {
   "cell_type": "code",
   "execution_count": 305,
   "metadata": {},
   "outputs": [],
   "source": [
    "\n",
    "X1=(np.array(dataset['EstimatedSalary'])).reshape(len(dataset),1)\n"
   ]
  },
  {
   "cell_type": "markdown",
   "metadata": {},
   "source": [
    "# normalisation"
   ]
  },
  {
   "cell_type": "code",
   "execution_count": 307,
   "metadata": {},
   "outputs": [],
   "source": [
    "X1=(X1-np.mean(X))/np.std(X1)"
   ]
  },
  {
   "cell_type": "markdown",
   "metadata": {},
   "source": [
    "## calculating likelihood probabilities , P( age=x | class=1or0 )\n",
    "### Since our Age feature is following some distribution closer to Gaussian Distribution\n",
    "### $$  P(age=x | class=1) = \\frac{1}{{\\sigma \\sqrt {2\\pi } }} e^ -\\frac{(x-\\mu)^2}{2 \\sigma^2 } $$\n",
    "###  where mu and sigma are the mean and standard deviations of ages feature of user with class(Purchase)=1\n"
   ]
  },
  {
   "cell_type": "code",
   "execution_count": 308,
   "metadata": {},
   "outputs": [],
   "source": [
    "def norm_pdf(x,mean,std):\n",
    "    return (1/(((2*3.14)**.5)*std))*np.exp(-(((x-mean)**2)/(2 * std**2)))"
   ]
  },
  {
   "cell_type": "markdown",
   "metadata": {},
   "source": [
    "## calculation mean and std for class=1 and class=0"
   ]
  },
  {
   "cell_type": "code",
   "execution_count": 309,
   "metadata": {},
   "outputs": [],
   "source": [
    "# training part\n",
    "mean_class0 = np.mean(X1[Y==0])\n",
    "mean_class1 = np.mean(X1[Y==1])\n",
    "\n",
    "std_class0 = np.std(X1[Y==0])\n",
    "std_class1 = np.std(X1[Y==1])\n"
   ]
  },
  {
   "cell_type": "markdown",
   "metadata": {},
   "source": [
    "## calculating Posterior Probablities"
   ]
  },
  {
   "cell_type": "code",
   "execution_count": 325,
   "metadata": {},
   "outputs": [],
   "source": [
    "def posterior_normal(example,mean_class0,std_class0,mean_class1,std_class1):   \n",
    "    numerator0= norm_pdf(example,mean_class0,std_class0)*prior_class0\n",
    "    numerator1= (norm_pdf(example,mean_class1,std_class1)*prior_class1)\n",
    "    return numerator0/(numerator0+numerator1)  ,  numerator1/(numerator0+numerator1)\n",
    "\n"
   ]
  },
  {
   "cell_type": "markdown",
   "metadata": {},
   "source": [
    "## testing :  \n",
    "### if for an example age, posterior1>posterior0: then model will predict Purchase=1 else Purchase=0"
   ]
  },
  {
   "cell_type": "code",
   "execution_count": 328,
   "metadata": {},
   "outputs": [],
   "source": [
    "def predict_using_normal(xtest,ytest):\n",
    "    y_predicted=[]\n",
    "    for i in range(len(X)):\n",
    "        posterior0,posterior1=posterior_normal(xtest[i],mean_class0,std_class0,mean_class1,std_class1)\n",
    "        if posterior0>posterior1:\n",
    "            y_predicted.append(0)\n",
    "        else:\n",
    "            y_predicted.append(1)\n",
    "    y_predicted=(np.array(y_predicted)).reshape(len(y_predicted),1)\n",
    "    return y_predicted\n",
    "\n",
    "\n",
    "\n",
    "def accuracy(y_predicted,y_actual):\n",
    "    return 100*(len(Y[y_predicted==y_actual])/len(y_actual))\n",
    "    "
   ]
  },
  {
   "cell_type": "markdown",
   "metadata": {},
   "source": [
    "## On using Age as feature and assuming it to be Norally Distributed"
   ]
  },
  {
   "cell_type": "code",
   "execution_count": 329,
   "metadata": {},
   "outputs": [
    {
     "name": "stdout",
     "output_type": "stream",
     "text": [
      "Accuracy is 77.5 %\n"
     ]
    }
   ],
   "source": [
    "print(\"Accuracy is\",accuracy(predict_using_normal(X1,Y),Y),\"%\",)"
   ]
  },
  {
   "cell_type": "code",
   "execution_count": null,
   "metadata": {},
   "outputs": [],
   "source": [
    "\n",
    "\n"
   ]
  },
  {
   "cell_type": "code",
   "execution_count": 330,
   "metadata": {},
   "outputs": [
    {
     "data": {
      "text/plain": [
       "(array([51., 39., 58., 50., 82., 40., 22., 19., 17., 22.]),\n",
       " array([ 15000.,  28500.,  42000.,  55500.,  69000.,  82500.,  96000.,\n",
       "        109500., 123000., 136500., 150000.]),\n",
       " <a list of 10 Patch objects>)"
      ]
     },
     "execution_count": 330,
     "metadata": {},
     "output_type": "execute_result"
    },
    {
     "data": {
      "image/png": "[encoded data removed]",
      "text/plain": [
       "<Figure size 432x288 with 1 Axes>"
      ]
     },
     "metadata": {},
     "output_type": "display_data"
    }
   ],
   "source": [
    "plt.hist(dataset['EstimatedSalary'])"
   ]
  },
  {
   "cell_type": "markdown",
   "metadata": {},
   "source": [
    "# 2. taking EstimatedSalary as the feature,\n",
    "## Since EstimatedSalary is having a good correlation with the target.  So we will be using EstimatedSalary to classify when or not the user will purchase the product"
   ]
  },
  {
   "cell_type": "code",
   "execution_count": 342,
   "metadata": {},
   "outputs": [],
   "source": [
    "X2=(np.array(dataset['EstimatedSalary'])).reshape(len(dataset),1)"
   ]
  },
  {
   "cell_type": "markdown",
   "metadata": {},
   "source": [
    "### scaling X2 by dividing it with 1000 so that factorial function can work properly"
   ]
  },
  {
   "cell_type": "code",
   "execution_count": 348,
   "metadata": {},
   "outputs": [],
   "source": [
    "X2=X2/1000"
   ]
  },
  {
   "cell_type": "markdown",
   "metadata": {},
   "source": [
    "## calculating likelihood probabilities , P( age=x | class=1or0 )\n",
    "### Since our Estimated Salary feature is following some distribution closer to Poisson Distribution\n",
    "# $$  P(EstimatedSalary=x | class=1) = \\frac{e^\\lambda  \\lambda^x}{x!}   $$\n",
    "###  where lambda is the mean of Estimated Salaries of users with class(Purchase)=1\n"
   ]
  },
  {
   "cell_type": "code",
   "execution_count": 349,
   "metadata": {},
   "outputs": [],
   "source": [
    "def poisson_pdf(x,mean):\n",
    "    return (np.exp(-mean) * (mean**x))/(np.math.factorial(x))"
   ]
  },
  {
   "cell_type": "markdown",
   "metadata": {},
   "source": [
    "# calculation mean for class=1 and class=0"
   ]
  },
  {
   "cell_type": "code",
   "execution_count": 350,
   "metadata": {},
   "outputs": [],
   "source": [
    "lambda0 = np.mean(X2[Y==0])\n",
    "lambda1 = np.mean(X2[Y==1])\n"
   ]
  },
  {
   "cell_type": "markdown",
   "metadata": {},
   "source": [
    "## calculating posterior probabilities"
   ]
  },
  {
   "cell_type": "code",
   "execution_count": 351,
   "metadata": {},
   "outputs": [],
   "source": [
    "def posterior_poisson(example,lambda0,lambda1):   \n",
    "    numerator0= poisson_pdf(example,lambda0)*prior_class0\n",
    "    numerator1= poisson_pdf(example,lambda1)*prior_class1\n",
    "    return numerator0/(numerator0+numerator1)  ,  numerator1/(numerator0+numerator1)"
   ]
  },
  {
   "cell_type": "code",
   "execution_count": 346,
   "metadata": {},
   "outputs": [],
   "source": [
    "def predict_using_poisson(xtest,ytest):\n",
    "    y_predicted=[]\n",
    "    for i in range(len(xtest)):\n",
    "        posterior0,posterior1=posterior_poisson(xtest[i],lambda0,lambda1)\n",
    "        if posterior0>posterior1:\n",
    "            y_predicted.append(0)\n",
    "        else:\n",
    "            y_predicted.append(1)\n",
    "    y_predicted=(np.array(y_predicted)).reshape(len(y_predicted),1)\n",
    "    return y_predicted\n"
   ]
  },
  {
   "cell_type": "markdown",
   "metadata": {},
   "source": [
    "## On using EstimateSalary as feature and assuming it to be Poisson Distributed,"
   ]
  },
  {
   "cell_type": "code",
   "execution_count": 353,
   "metadata": {},
   "outputs": [
    {
     "name": "stdout",
     "output_type": "stream",
     "text": [
      "Accuracy is 64.25 %\n"
     ]
    }
   ],
   "source": [
    "print(\"Accuracy is\",accuracy(predict_using_poisson(X2,Y),Y),\"%\",)"
   ]
  },
  {
   "cell_type": "code",
   "execution_count": null,
   "metadata": {},
   "outputs": [],
   "source": []
  },
  {
   "cell_type": "code",
   "execution_count": null,
   "metadata": {},
   "outputs": [],
   "source": []
  },
  {
   "cell_type": "code",
   "execution_count": null,
   "metadata": {},
   "outputs": [],
   "source": []
  }
 ],
 "metadata": {
  "kernelspec": {
   "display_name": "Python 3",
   "language": "python",
   "name": "python3"
  },
  "language_info": {
   "codemirror_mode": {
    "name": "ipython",
    "version": 3
   },
   "file_extension": ".py",
   "mimetype": "text/x-python",
   "name": "python",
   "nbconvert_exporter": "python",
   "pygments_lexer": "ipython3",
   "version": "3.6.5"
  }
 },
 "nbformat": 4,
 "nbformat_minor": 2
}
