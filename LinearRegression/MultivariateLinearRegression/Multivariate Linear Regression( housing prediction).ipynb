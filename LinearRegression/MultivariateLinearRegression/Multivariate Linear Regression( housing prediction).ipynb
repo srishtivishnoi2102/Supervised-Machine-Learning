{
 "cells": [
  {
   "cell_type": "markdown",
   "metadata": {},
   "source": [
    "## importing necessary libraries"
   ]
  },
  {
   "cell_type": "code",
   "execution_count": 116,
   "metadata": {},
   "outputs": [],
   "source": [
    "import pandas as pd   # for reading the csv file\n",
    "import numpy as np     # for dea;ing with n-dimensional matrices\n",
    "import matplotlib.pyplot as plt       # for plotting the results\n",
    "from IPython.display import clear_output  \n"
   ]
  },
  {
   "cell_type": "code",
   "execution_count": 117,
   "metadata": {},
   "outputs": [
    {
     "data": {
      "text/html": [
       "<div>\n",
       "<style scoped>\n",
       "    .dataframe tbody tr th:only-of-type {\n",
       "        vertical-align: middle;\n",
       "    }\n",
       "\n",
       "    .dataframe tbody tr th {\n",
       "        vertical-align: top;\n",
       "    }\n",
       "\n",
       "    .dataframe thead th {\n",
       "        text-align: right;\n",
       "    }\n",
       "</style>\n",
       "<table border=\"1\" class=\"dataframe\">\n",
       "  <thead>\n",
       "    <tr style=\"text-align: right;\">\n",
       "      <th></th>\n",
       "      <th>longitude</th>\n",
       "      <th>latitude</th>\n",
       "      <th>housing_median_age</th>\n",
       "      <th>total_rooms</th>\n",
       "      <th>total_bedrooms</th>\n",
       "      <th>population</th>\n",
       "      <th>households</th>\n",
       "      <th>median_income</th>\n",
       "      <th>median_house_value</th>\n",
       "      <th>ocean_proximity</th>\n",
       "    </tr>\n",
       "  </thead>\n",
       "  <tbody>\n",
       "    <tr>\n",
       "      <th>0</th>\n",
       "      <td>-122.23</td>\n",
       "      <td>37.88</td>\n",
       "      <td>41.0</td>\n",
       "      <td>880.0</td>\n",
       "      <td>129.0</td>\n",
       "      <td>322.0</td>\n",
       "      <td>126.0</td>\n",
       "      <td>8.3252</td>\n",
       "      <td>452600.0</td>\n",
       "      <td>NEAR BAY</td>\n",
       "    </tr>\n",
       "    <tr>\n",
       "      <th>1</th>\n",
       "      <td>-122.22</td>\n",
       "      <td>37.86</td>\n",
       "      <td>21.0</td>\n",
       "      <td>7099.0</td>\n",
       "      <td>1106.0</td>\n",
       "      <td>2401.0</td>\n",
       "      <td>1138.0</td>\n",
       "      <td>8.3014</td>\n",
       "      <td>358500.0</td>\n",
       "      <td>NEAR BAY</td>\n",
       "    </tr>\n",
       "  </tbody>\n",
       "</table>\n",
       "</div>"
      ],
      "text/plain": [
       "   longitude  latitude  housing_median_age  total_rooms  total_bedrooms  \\\n",
       "0    -122.23     37.88                41.0        880.0           129.0   \n",
       "1    -122.22     37.86                21.0       7099.0          1106.0   \n",
       "\n",
       "   population  households  median_income  median_house_value ocean_proximity  \n",
       "0       322.0       126.0         8.3252            452600.0        NEAR BAY  \n",
       "1      2401.0      1138.0         8.3014            358500.0        NEAR BAY  "
      ]
     },
     "execution_count": 117,
     "metadata": {},
     "output_type": "execute_result"
    }
   ],
   "source": [
    "dataset=pd.read_csv(\"datasets/housing.csv\")   # reading the housing.csv file (saved in the folder dataset) using read_csv() method of pandas' library\n",
    "dataset.head(2)"
   ]
  },
  {
   "cell_type": "markdown",
   "metadata": {},
   "source": [
    "# Data Cleaning \n",
    "## 1. making sure that our data is icluding only those features which are having integer or float as datatype \n",
    "### we do so by using pandas' select_dtypes() method."
   ]
  },
  {
   "cell_type": "code",
   "execution_count": 118,
   "metadata": {},
   "outputs": [
    {
     "data": {
      "text/html": [
       "<div>\n",
       "<style scoped>\n",
       "    .dataframe tbody tr th:only-of-type {\n",
       "        vertical-align: middle;\n",
       "    }\n",
       "\n",
       "    .dataframe tbody tr th {\n",
       "        vertical-align: top;\n",
       "    }\n",
       "\n",
       "    .dataframe thead th {\n",
       "        text-align: right;\n",
       "    }\n",
       "</style>\n",
       "<table border=\"1\" class=\"dataframe\">\n",
       "  <thead>\n",
       "    <tr style=\"text-align: right;\">\n",
       "      <th></th>\n",
       "      <th>longitude</th>\n",
       "      <th>latitude</th>\n",
       "      <th>housing_median_age</th>\n",
       "      <th>total_rooms</th>\n",
       "      <th>total_bedrooms</th>\n",
       "      <th>population</th>\n",
       "      <th>households</th>\n",
       "      <th>median_income</th>\n",
       "      <th>median_house_value</th>\n",
       "    </tr>\n",
       "  </thead>\n",
       "  <tbody>\n",
       "    <tr>\n",
       "      <th>0</th>\n",
       "      <td>-122.23</td>\n",
       "      <td>37.88</td>\n",
       "      <td>41.0</td>\n",
       "      <td>880.0</td>\n",
       "      <td>129.0</td>\n",
       "      <td>322.0</td>\n",
       "      <td>126.0</td>\n",
       "      <td>8.3252</td>\n",
       "      <td>452600.0</td>\n",
       "    </tr>\n",
       "    <tr>\n",
       "      <th>1</th>\n",
       "      <td>-122.22</td>\n",
       "      <td>37.86</td>\n",
       "      <td>21.0</td>\n",
       "      <td>7099.0</td>\n",
       "      <td>1106.0</td>\n",
       "      <td>2401.0</td>\n",
       "      <td>1138.0</td>\n",
       "      <td>8.3014</td>\n",
       "      <td>358500.0</td>\n",
       "    </tr>\n",
       "  </tbody>\n",
       "</table>\n",
       "</div>"
      ],
      "text/plain": [
       "   longitude  latitude  housing_median_age  total_rooms  total_bedrooms  \\\n",
       "0    -122.23     37.88                41.0        880.0           129.0   \n",
       "1    -122.22     37.86                21.0       7099.0          1106.0   \n",
       "\n",
       "   population  households  median_income  median_house_value  \n",
       "0       322.0       126.0         8.3252            452600.0  \n",
       "1      2401.0      1138.0         8.3014            358500.0  "
      ]
     },
     "execution_count": 118,
     "metadata": {},
     "output_type": "execute_result"
    }
   ],
   "source": [
    "dataset=dataset.select_dtypes(include=('float64','int64'))  #this will remove the 'ocean_proximity' feature\n",
    "dataset.head(2)"
   ]
  },
  {
   "cell_type": "markdown",
   "metadata": {},
   "source": [
    "## 2. making sure that our data is not having any NaN value\n",
    "### check which feature is having NaN values with pandas.isna() method"
   ]
  },
  {
   "cell_type": "code",
   "execution_count": 119,
   "metadata": {
    "scrolled": true
   },
   "outputs": [
    {
     "data": {
      "text/plain": [
       "longitude               0\n",
       "latitude                0\n",
       "housing_median_age      0\n",
       "total_rooms             0\n",
       "total_bedrooms        207\n",
       "population              0\n",
       "households              0\n",
       "median_income           0\n",
       "median_house_value      0\n",
       "dtype: int64"
      ]
     },
     "execution_count": 119,
     "metadata": {},
     "output_type": "execute_result"
    }
   ],
   "source": [
    "dataset.isnull().sum()"
   ]
  },
  {
   "cell_type": "code",
   "execution_count": 120,
   "metadata": {},
   "outputs": [
    {
     "name": "stdout",
     "output_type": "stream",
     "text": [
      "Initially, dataset.shape :  (20640, 9)\n",
      "after dropping rows with Nan values, dataset.shape :  (20433, 9)\n"
     ]
    }
   ],
   "source": [
    "#so here we find that 203 rows are there that are having NaN value in \"total_bedrooms\" feature\n",
    "# we will drop those rows by dropna() method with axis=0 i.e., row-wise.\n",
    "\n",
    "print(\"Initially, dataset.shape : \",dataset.shape)\n",
    "\n",
    "dataset=dataset.dropna(axis=0) \n",
    "\n",
    "print(\"after dropping rows with Nan values, dataset.shape : \",dataset.shape)\n"
   ]
  },
  {
   "cell_type": "markdown",
   "metadata": {},
   "source": [
    "## 3. Data Normalisation\n",
    "## Here we are doing standard normalisation by subtraction data by mean and dividing it with standard deviation so that our data can be standardised with mean=0 and std=1"
   ]
  },
  {
   "cell_type": "code",
   "execution_count": 121,
   "metadata": {},
   "outputs": [],
   "source": [
    "def scalar(x):\n",
    "    return (x-x.mean(axis=0))/x.std(axis=0)"
   ]
  },
  {
   "cell_type": "code",
   "execution_count": 122,
   "metadata": {},
   "outputs": [
    {
     "name": "stdout",
     "output_type": "stream",
     "text": [
      "Before Normalisation: \n",
      "\n",
      "dataset.mean():  [-1.19570689e+02  3.56332213e+01  2.86330935e+01  2.63650423e+03\n",
      "  5.37870553e+02  1.42494695e+03  4.99433465e+02  3.87116160e+00\n",
      "  2.06864413e+05]\n",
      "dataset.std():  [2.00357789e+00 2.13634767e+00 1.25918052e+01 2.18526957e+03\n",
      " 4.21385070e+02 1.13320849e+03 3.82299226e+02 1.89929125e+00\n",
      " 1.15435667e+05]\n",
      "\n",
      " After Normalisation: \n",
      "\n",
      "dataset.mean():  [-1.43321426e-12 -7.00868641e-14  1.66210162e-16  9.57949740e-17\n",
      " -1.99180520e-16 -3.85206584e-17 -9.05014058e-18 -2.50716483e-14\n",
      "  6.80173928e-16]\n",
      "dataset.std():  [1. 1. 1. 1. 1. 1. 1. 1. 1.]\n"
     ]
    }
   ],
   "source": [
    "print(\"Before Normalisation: \\n\")\n",
    "print(\"dataset.mean(): \",np.array(dataset.mean()))\n",
    "print(\"dataset.std(): \",np.array(dataset.std()))\n",
    "\n",
    "dataset =scalar(dataset)\n",
    "\n",
    "print(\"\\n After Normalisation: \\n\")\n",
    "print(\"dataset.mean(): \",np.array(dataset.mean()))\n",
    "print(\"dataset.std(): \",np.array(dataset.std()))"
   ]
  },
  {
   "cell_type": "code",
   "execution_count": null,
   "metadata": {},
   "outputs": [],
   "source": []
  },
  {
   "cell_type": "markdown",
   "metadata": {},
   "source": [
    "# in multiivariate regression, we use more than one independent feature to predict tha target variable.\n",
    "##             y=x1*m1 +x2*m2 + x3*m3 + .... x_n*m_n,      where n is the number of independent features we are using,     and we have one value of m i.e., slope (or weight ) for each independent feature and c is the intercept on y axis.\n",
    "\n",
    "###               we are trying to fit a line for y in (n+1) dimensions\n",
    "###              here the y, i.e., target variable is the 'median_house_value'"
   ]
  },
  {
   "cell_type": "code",
   "execution_count": 123,
   "metadata": {},
   "outputs": [
    {
     "name": "stdout",
     "output_type": "stream",
     "text": [
      "target.shape:   (20433, 1)\n",
      "features.shape:   (20433, 8)\n"
     ]
    }
   ],
   "source": [
    "target= dataset['median_house_value']\n",
    "target=np.array(target)\n",
    "target=target.reshape(target.shape[0],1)\n",
    "print(\"target.shape:  \",target.shape)\n",
    "\n",
    "features=dataset.drop('median_house_value',axis=1)\n",
    "features=np.array(features)\n",
    "print(\"features.shape:  \",features.shape)\n"
   ]
  },
  {
   "cell_type": "markdown",
   "metadata": {},
   "source": [
    "## y_predicted = x1*m1 + x2*m2.... xn*mn +c\n",
    "### this can be written in matrix form as\n",
    "##    y_predicted = X*Weights + Bias,            where Weights is an array of n slopes, i.e., len(Weights)=number_of_independent_features "
   ]
  },
  {
   "cell_type": "code",
   "execution_count": 124,
   "metadata": {},
   "outputs": [],
   "source": [
    "def linear_model(weights,x,bias):\n",
    "    return np.matmul(x,weights)+bias\n"
   ]
  },
  {
   "cell_type": "code",
   "execution_count": null,
   "metadata": {},
   "outputs": [],
   "source": []
  },
  {
   "cell_type": "markdown",
   "metadata": {},
   "source": [
    "###  In Regression, we will be calculating the Mean Squared Error\n",
    "###    error  = mean(  ( y_predicted - y_dataset ) ^2 )\n",
    "#####  y_predicted will be calculated from our linear regression model."
   ]
  },
  {
   "cell_type": "code",
   "execution_count": 126,
   "metadata": {},
   "outputs": [],
   "source": [
    "def error(m,x,c,y):\n",
    "    return np.mean((linear_model(m,x,x)-y)**2)\n"
   ]
  },
  {
   "cell_type": "markdown",
   "metadata": {},
   "source": [
    "## Improving the performance of our model\n",
    "\n",
    "### We need to minimise the error in order to improve the performance of our model.\n",
    "### In the Error Function(weights,x,bias,y) .... x and y are from the dataset, that's why there are constant and the only parameter  which decide the  value of error are....  weights and bias\n",
    "### So basically error is a function of weights and bias and we know we need to minimise the error.  For this, we need to find the best possible values of weights and bias for which our error will be minimum and performance will be maximum\n",
    "### To find best values of weights and bias, We use Gradient Descent Algorithm."
   ]
  },
  {
   "cell_type": "code",
   "execution_count": 127,
   "metadata": {},
   "outputs": [],
   "source": [
    "# derivative wrt to weights\n",
    "\n",
    "def derivative_wrt_weights(m,x,c,y):\n",
    "    derivatives=2*np.mean(np.multiply(x,linear_model(m,x,c)-y),axis=0)\n",
    "    derivatives= np.array(derivatives)\n",
    "    derivatives=derivatives.reshape(features.shape[1],1)\n",
    "    return derivatives\n",
    "     \n",
    "# derivative wrt to bias\n",
    "\n",
    "def derivative_wrt_bias(m,x,c,y):\n",
    "    derivative=2*np.mean(linear_model(m,x,c)-y)\n",
    "    derivative= np.array(derivative)\n",
    "    derivative=derivative.reshape(1,1)\n",
    "    return derivative\n",
    "\n",
    "def accuracy(m,x,c,y):\n",
    "    currentError = error(m,features,c,target)\n",
    "    maxError = np.mean(target**2)\n",
    "    return (1-(currentError / maxError))*100"
   ]
  },
  {
   "cell_type": "markdown",
   "metadata": {},
   "source": [
    "## setting initial values for slope and intercept "
   ]
  },
  {
   "cell_type": "code",
   "execution_count": 128,
   "metadata": {},
   "outputs": [],
   "source": [
    "# selecting initial values from standard normal distribution\n",
    "weights0=np.random.rand(features.shape[1],1)\n",
    "bias0=np.random.rand(1,1)"
   ]
  },
  {
   "cell_type": "markdown",
   "metadata": {},
   "source": [
    "# training the model by gradient descent algorithm by updating the values of weights and bias in the direction of gradients, i.e., derivative wrt weights and bias respectively\n"
   ]
  },
  {
   "cell_type": "code",
   "execution_count": 141,
   "metadata": {},
   "outputs": [],
   "source": [
    "def model_train(alpha,num_of_iteration):\n",
    "    weights=weights0\n",
    "    bias=bias0\n",
    "    error_cost=[]\n",
    "    lr=[]\n",
    "    for i in range(num_of_iteration):\n",
    "        lr.append(alpha)\n",
    "        if(i%150==49):\n",
    "            alpha=alpha/1.005\n",
    "        weights = weights - alpha * derivative_wrt_weights(weights,features,bias,target)\n",
    "        bias = bias - alpha * derivative_wrt_bias(weights,features,bias,target)\n",
    "        error_cost.append(error(weights,features,bias,target))\n",
    "        print(error_cost[i])\n",
    "        clear_output(True)\n",
    "    plt.plot(error_cost)\n",
    "    plt.xlabel(\"iteration number\")\n",
    "    plt.ylabel(\"Error\")\n",
    "    plt.show()\n",
    "    plt.plot(lr)\n",
    "    print(\"The error is : \",error(weights,features,bias,target))\n",
    "    return weights,bias\n"
   ]
  },
  {
   "cell_type": "code",
   "execution_count": 142,
   "metadata": {},
   "outputs": [
    {
     "data": {
      "image/png": "[encoded data removed]",
      "text/plain": [
       "<Figure size 432x288 with 1 Axes>"
      ]
     },
     "metadata": {},
     "output_type": "display_data"
    },
    {
     "name": "stdout",
     "output_type": "stream",
     "text": [
      "The error is :  1.581547643878997\n"
     ]
    },
    {
     "data": {
      "image/png": "[encoded data removed]",
      "text/plain": [
       "<Figure size 432x288 with 1 Axes>"
      ]
     },
     "metadata": {},
     "output_type": "display_data"
    }
   ],
   "source": [
    "weights,bias =model_train(alpha=0.0010,num_of_iteration=1000)"
   ]
  },
  {
   "cell_type": "markdown",
   "metadata": {},
   "source": [
    "# actual target values are in YELLOW and predicted values are in RED"
   ]
  },
  {
   "cell_type": "code",
   "execution_count": 143,
   "metadata": {},
   "outputs": [
    {
     "data": {
      "text/plain": [
       "<matplotlib.collections.PathCollection at 0x1c008127c18>"
      ]
     },
     "execution_count": 143,
     "metadata": {},
     "output_type": "execute_result"
    },
    {
     "data": {
      "image/png": "[encoded data removed]",
      "text/plain": [
       "<Figure size 432x288 with 1 Axes>"
      ]
     },
     "metadata": {},
     "output_type": "display_data"
    }
   ],
   "source": [
    "plt.scatter(dataset['median_income'],target,color='yellow')\n",
    "\n",
    "plt.scatter(dataset['median_income'],linear_model(weights,features,bias),color='red')"
   ]
  },
  {
   "cell_type": "code",
   "execution_count": null,
   "metadata": {},
   "outputs": [],
   "source": []
  }
 ],
 "metadata": {
  "kernelspec": {
   "display_name": "Python 3",
   "language": "python",
   "name": "python3"
  },
  "language_info": {
   "codemirror_mode": {
    "name": "ipython",
    "version": 3
   },
   "file_extension": ".py",
   "mimetype": "text/x-python",
   "name": "python",
   "nbconvert_exporter": "python",
   "pygments_lexer": "ipython3",
   "version": "3.6.5"
  }
 },
 "nbformat": 4,
 "nbformat_minor": 2
}
